{
 "cells": [
  {
   "cell_type": "markdown",
   "metadata": {},
   "source": [
    "In this notebook, we will explore Netflix movies and TV shows with [kotlin/dataframe](https://github.com/Kotlin/dataframe). Also, we will use [lets-plot](https://github.com/JetBrains/lets-plot-kotlin) library for data visualization."
   ]
  },
  {
   "cell_type": "markdown",
   "metadata": {},
   "source": [
    "## Table of contents\n",
    "* [**Imports**](attachment:./#Imports)\n",
    "* [**Reading and first look**](attachment:./#Reading-and-first-look)\n",
    "* [**TV Shows and Movies**](attachment:./#TV-Shows-and-Movies)\n",
    "* [**Lifetimes and Release Times**](attachment:./#Lifetimes-and-Release-Times)\n",
    "* [**Actors**](attachment:./#Actors)\n",
    "* [**Countries**](attachment:./#Countries)\n",
    "* [**Duration**](attachment:./#Duration)\n",
    "* [**Ratings**](attachment:./#Ratings)"
   ]
  },
  {
   "cell_type": "markdown",
   "metadata": {},
   "source": [
    "## Imports"
   ]
  },
  {
   "cell_type": "markdown",
   "metadata": {},
   "source": [
    "We use the latest available versions of the libraries, the following line magic is responsible for this:"
   ]
  },
  {
   "cell_type": "code",
   "execution_count": 57,
   "metadata": {},
   "outputs": [],
   "source": [
    "%useLatestDescriptors"
   ]
  },
  {
   "cell_type": "markdown",
   "metadata": {},
   "source": [
    "Importing dataframe"
   ]
  },
  {
   "cell_type": "code",
   "execution_count": 58,
   "metadata": {},
   "outputs": [],
   "source": [
    "%use dataframe"
   ]
  },
  {
   "cell_type": "markdown",
   "metadata": {},
   "source": [
    "Importing the visualization library"
   ]
  },
  {
   "cell_type": "code",
   "execution_count": 59,
   "metadata": {},
   "outputs": [
    {
     "data": {
      "text/html": "   <div id=\"Tp8YxV\"></div>\n   <script type=\"text/javascript\" data-lets-plot-script=\"library\">\n       if(!window.letsPlotCallQueue) {\n           window.letsPlotCallQueue = [];\n       }; \n       window.letsPlotCall = function(f) {\n           window.letsPlotCallQueue.push(f);\n       };\n       (function() {\n           var script = document.createElement(\"script\");\n           script.type = \"text/javascript\";\n           script.src = \"https://cdn.jsdelivr.net/gh/JetBrains/lets-plot@v2.2.0/js-package/distr/lets-plot.min.js\";\n           script.onload = function() {\n               window.letsPlotCall = function(f) {f();};\n               window.letsPlotCallQueue.forEach(function(f) {f();});\n               window.letsPlotCallQueue = [];\n               \n               \n           };\n           script.onerror = function(event) {\n               window.letsPlotCall = function(f) {};\n               window.letsPlotCallQueue = [];\n               var div = document.createElement(\"div\");\n               div.style.color = 'darkred';\n               div.textContent = 'Error loading Lets-Plot JS';\n               document.getElementById(\"Tp8YxV\").appendChild(div);\n           };\n           var e = document.getElementById(\"Tp8YxV\");\n           e.appendChild(script);\n       })();\n   </script>"
     },
     "metadata": {},
     "output_type": "display_data"
    }
   ],
   "source": [
    "%use lets-plot"
   ]
  },
  {
   "cell_type": "markdown",
   "metadata": {},
   "source": [
    "We will also work with maps, so we need the corresponding libraries."
   ]
  },
  {
   "cell_type": "code",
   "execution_count": 60,
   "metadata": {},
   "outputs": [],
   "source": [
    "%use lets-plot-gt(gt=\"[23,)\")\n",
    "@file:DependsOn(\"org.geotools:gt-shapefile:[23,)\")\n",
    "@file:DependsOn(\"org.geotools:gt-cql:[23,)\")"
   ]
  },
  {
   "cell_type": "markdown",
   "metadata": {},
   "source": [
    "And write the necessary imports"
   ]
  },
  {
   "cell_type": "code",
   "execution_count": 61,
   "metadata": {},
   "outputs": [],
   "source": [
    "import org.geotools.data.shapefile.ShapefileDataStoreFactory\n",
    "import org.geotools.data.simple.SimpleFeatureCollection\n",
    "import java.net.URL"
   ]
  },
  {
   "cell_type": "markdown",
   "metadata": {},
   "source": [
    "## Reading and first look"
   ]
  },
  {
   "cell_type": "markdown",
   "metadata": {},
   "source": [
    "To get started, need to read data from csv"
   ]
  },
  {
   "cell_type": "code",
   "execution_count": 62,
   "metadata": {},
   "outputs": [],
   "source": [
    "val raw_df = DataFrame.read(\"netflix_titles.csv\")"
   ]
  },
  {
   "cell_type": "markdown",
   "metadata": {},
   "source": [
    "First look could be taken at its content"
   ]
  },
  {
   "cell_type": "code",
   "execution_count": 63,
   "metadata": {},
   "outputs": [
    {
     "data": {
      "text/plain": "show_id: String\ntype: String\ntitle: String\ndirector: String?\ncast: String?\ncountry: String?\ndate_added: String?\nrelease_year: Int\nrating: String?\nduration: String\nlisted_in: String\ndescription: String\n"
     },
     "execution_count": 63,
     "metadata": {},
     "output_type": "execute_result"
    }
   ],
   "source": [
    "// taking a look at types and columns\n",
    "raw_df.schema()"
   ]
  },
  {
   "cell_type": "code",
   "execution_count": 64,
   "metadata": {},
   "outputs": [
    {
     "data": {
      "text/plain": "7787 x 12"
     },
     "execution_count": 64,
     "metadata": {},
     "output_type": "execute_result"
    }
   ],
   "source": [
    "raw_df.size() // rowsCount x columnsCount"
   ]
  },
  {
   "cell_type": "code",
   "execution_count": 65,
   "metadata": {},
   "outputs": [
    {
     "data": {
      "text/html": "        <html>\n        <head>\n            <style type=\"text/css\">\n                \n\n            </style>\n        </head>\n        <body>\n            <table class=\"dataframe\" id=\"df_1275068419\"></table>\n\n<p>DataFrame [5 x 12]</p>\n        </body>\n        <script>\n            /*<!--*/\ncall_DataFrame(function() { DataFrame.addTable({ cols: [{ name: \"<span title=\\\"show_id: String\\\">show_id</span>\", children: [], rightAlign: false, values: [\"s1\",\"s2\",\"s3\",\"s4\",\"s5\"] }, \n{ name: \"<span title=\\\"type: String\\\">type</span>\", children: [], rightAlign: false, values: [\"TV Show\",\"Movie\",\"Movie\",\"Movie\",\"Movie\"] }, \n{ name: \"<span title=\\\"title: String\\\">title</span>\", children: [], rightAlign: false, values: [\"3%\",\"7:19\",\"23:59\",\"9\",\"21\"] }, \n{ name: \"<span title=\\\"director: String?\\\">director</span>\", children: [], rightAlign: false, values: [\"<span class=\\\"formatted\\\" title=\\\"\\\"><span class=\\\"null\\\">null</span></span>\",\"Jorge Michel Grau\",\"Gilbert Chan\",\"Shane Acker\",\"Robert Luketic\"] }, \n{ name: \"<span title=\\\"cast: String\\\">cast</span>\", children: [], rightAlign: false, values: [\"<span class=\\\"formatted\\\" title=\\\"Jo&#227;o Miguel, Bianca Comparato, Michel Gomes, Rodolfo Valente, Vaneza Oliveira, Rafael Lozano, Viviane Porto, Mel Fronckowiak, Sergio Mamberti, Zez&#233; Motta, Celso Frateschi\\\">Jo&#227;o Miguel, Bianca Comparato, Michel<span class=\\\"structural\\\">...</span></span>\",\"<span class=\\\"formatted\\\" title=\\\"Demi&#225;n Bichir, H&#233;ctor Bonilla, Oscar Serrano, Azalia Ortiz, Octavio Michel, Carmen Beato\\\">Demi&#225;n Bichir, H&#233;ctor Bonilla, Oscar <span class=\\\"structural\\\">...</span></span>\",\"<span class=\\\"formatted\\\" title=\\\"Tedd Chan, Stella Chung, Henley Hii, Lawrence Koh, Tommy Kuan, Josh Lai, Mark Lee, Susan Leong, Benjamin Lim\\\">Tedd Chan, Stella Chung, Henley Hii, <span class=\\\"structural\\\">...</span></span>\",\"<span class=\\\"formatted\\\" title=\\\"Elijah Wood, John C. Reilly, Jennifer Connelly, Christopher Plummer, Crispin Glover, Martin Landau, Fred Tatasciore, Alan Oppenheimer, Tom Kane\\\">Elijah Wood, John C. Reilly, Jennifer<span class=\\\"structural\\\">...</span></span>\",\"<span class=\\\"formatted\\\" title=\\\"Jim Sturgess, Kevin Spacey, Kate Bosworth, Aaron Yoo, Liza Lapira, Jacob Pitts, Laurence Fishburne, Jack McGee, Josh Gad, Sam Golzari, Helen Carey, Jack Gilpin\\\">Jim Sturgess, Kevin Spacey, Kate Bosw<span class=\\\"structural\\\">...</span></span>\"] }, \n{ name: \"<span title=\\\"country: String\\\">country</span>\", children: [], rightAlign: false, values: [\"Brazil\",\"Mexico\",\"Singapore\",\"United States\",\"United States\"] }, \n{ name: \"<span title=\\\"date_added: String\\\">date_added</span>\", children: [], rightAlign: false, values: [\"August 14, 2020\",\"December 23, 2016\",\"December 20, 2018\",\"November 16, 2017\",\"January 1, 2020\"] }, \n{ name: \"<span title=\\\"release_year: Int\\\">release_year</span>\", children: [], rightAlign: true, values: [\"<span class=\\\"formatted\\\" title=\\\"\\\"><span class=\\\"numbers\\\">2020</span></span>\",\"<span class=\\\"formatted\\\" title=\\\"\\\"><span class=\\\"numbers\\\">2016</span></span>\",\"<span class=\\\"formatted\\\" title=\\\"\\\"><span class=\\\"numbers\\\">2011</span></span>\",\"<span class=\\\"formatted\\\" title=\\\"\\\"><span class=\\\"numbers\\\">2009</span></span>\",\"<span class=\\\"formatted\\\" title=\\\"\\\"><span class=\\\"numbers\\\">2008</span></span>\"] }, \n{ name: \"<span title=\\\"rating: String\\\">rating</span>\", children: [], rightAlign: false, values: [\"TV-MA\",\"TV-MA\",\"R\",\"PG-13\",\"PG-13\"] }, \n{ name: \"<span title=\\\"duration: String\\\">duration</span>\", children: [], rightAlign: false, values: [\"4 Seasons\",\"93 min\",\"78 min\",\"80 min\",\"123 min\"] }, \n{ name: \"<span title=\\\"listed_in: String\\\">listed_in</span>\", children: [], rightAlign: false, values: [\"<span class=\\\"formatted\\\" title=\\\"International TV Shows, TV Dramas, TV Sci-Fi &#38; Fantasy\\\">International TV Shows, TV Dramas, TV<span class=\\\"structural\\\">...</span></span>\",\"Dramas, International Movies\",\"Horror Movies, International Movies\",\"<span class=\\\"formatted\\\" title=\\\"Action &#38; Adventure, Independent Movies, Sci-Fi &#38; Fantasy\\\">Action &#38; Adventure, Independent Movie<span class=\\\"structural\\\">...</span></span>\",\"Dramas\"] }, \n{ name: \"<span title=\\\"description: String\\\">description</span>\", children: [], rightAlign: false, values: [\"<span class=\\\"formatted\\\" title=\\\"In a future where the elite inhabit an island paradise far from the crowded slums, you get one chance to join the 3% saved from squalor.\\\">In a future where the elite inhabit a<span class=\\\"structural\\\">...</span></span>\",\"<span class=\\\"formatted\\\" title=\\\"After a devastating earthquake hits Mexico City, trapped survivors from all walks of life wait to be rescued while trying desperately to stay alive.\\\">After a devastating earthquake hits M<span class=\\\"structural\\\">...</span></span>\",\"<span class=\\\"formatted\\\" title=\\\"When an army recruit is found dead, his fellow soldiers are forced to confront a terrifying secret that&#39;s haunting their jungle island training camp.\\\">When an army recruit is found dead, h<span class=\\\"structural\\\">...</span></span>\",\"<span class=\\\"formatted\\\" title=\\\"In a postapocalyptic world, rag-doll robots hide in fear from dangerous machines out to exterminate them, until a brave newcomer joins the group.\\\">In a postapocalyptic world, rag-doll <span class=\\\"structural\\\">...</span></span>\",\"<span class=\\\"formatted\\\" title=\\\"A brilliant group of students become card-counting experts with the intent of swindling millions out of Las Vegas casinos by playing blackjack.\\\">A brilliant group of students become <span class=\\\"structural\\\">...</span></span>\"] }, \n], id: 1275068419, rootId: 1275068419 } ) });\n/*-->*/\n\ncall_DataFrame(function() { DataFrame.renderTable(1275068419) });\n\n\n        </script>\n        </html>"
     },
     "execution_count": 65,
     "metadata": {},
     "output_type": "execute_result"
    }
   ],
   "source": [
    "raw_df.head() // return first five rows"
   ]
  },
  {
   "cell_type": "code",
   "execution_count": 66,
   "metadata": {},
   "outputs": [
    {
     "data": {
      "text/html": "        <html>\n        <head>\n            <style type=\"text/css\">\n                \n\n            </style>\n        </head>\n        <body>\n            <table class=\"dataframe\" id=\"df_1275068420\"></table>\n\n<p>DataFrame [12 x 12]</p>\n        </body>\n        <script>\n            /*<!--*/\ncall_DataFrame(function() { DataFrame.addTable({ cols: [{ name: \"<span title=\\\"name: String\\\">name</span>\", children: [], rightAlign: false, values: [\"show_id\",\"type\",\"title\",\"director\",\"cast\",\"country\",\"date_added\",\"release_year\",\"rating\",\"duration\",\"listed_in\",\"description\"] }, \n{ name: \"<span title=\\\"type: Any\\\">type</span>\", children: [], rightAlign: false, values: [\"String\",\"String\",\"String\",\"String\",\"String\",\"String\",\"String\",\"Int\",\"String\",\"String\",\"String\",\"String\"] }, \n{ name: \"<span title=\\\"count: Int\\\">count</span>\", children: [], rightAlign: true, values: [\"<span class=\\\"formatted\\\" title=\\\"\\\"><span class=\\\"numbers\\\">7787</span></span>\",\"<span class=\\\"formatted\\\" title=\\\"\\\"><span class=\\\"numbers\\\">7787</span></span>\",\"<span class=\\\"formatted\\\" title=\\\"\\\"><span class=\\\"numbers\\\">7787</span></span>\",\"<span class=\\\"formatted\\\" title=\\\"\\\"><span class=\\\"numbers\\\">7787</span></span>\",\"<span class=\\\"formatted\\\" title=\\\"\\\"><span class=\\\"numbers\\\">7787</span></span>\",\"<span class=\\\"formatted\\\" title=\\\"\\\"><span class=\\\"numbers\\\">7787</span></span>\",\"<span class=\\\"formatted\\\" title=\\\"\\\"><span class=\\\"numbers\\\">7787</span></span>\",\"<span class=\\\"formatted\\\" title=\\\"\\\"><span class=\\\"numbers\\\">7787</span></span>\",\"<span class=\\\"formatted\\\" title=\\\"\\\"><span class=\\\"numbers\\\">7787</span></span>\",\"<span class=\\\"formatted\\\" title=\\\"\\\"><span class=\\\"numbers\\\">7787</span></span>\",\"<span class=\\\"formatted\\\" title=\\\"\\\"><span class=\\\"numbers\\\">7787</span></span>\",\"<span class=\\\"formatted\\\" title=\\\"\\\"><span class=\\\"numbers\\\">7787</span></span>\"] }, \n{ name: \"<span title=\\\"unique: Int\\\">unique</span>\", children: [], rightAlign: true, values: [\"<span class=\\\"formatted\\\" title=\\\"\\\"><span class=\\\"numbers\\\">7787</span></span>\",\"<span class=\\\"formatted\\\" title=\\\"\\\"><span class=\\\"numbers\\\">2</span></span>\",\"<span class=\\\"formatted\\\" title=\\\"\\\"><span class=\\\"numbers\\\">7787</span></span>\",\"<span class=\\\"formatted\\\" title=\\\"\\\"><span class=\\\"numbers\\\">4050</span></span>\",\"<span class=\\\"formatted\\\" title=\\\"\\\"><span class=\\\"numbers\\\">6832</span></span>\",\"<span class=\\\"formatted\\\" title=\\\"\\\"><span class=\\\"numbers\\\">682</span></span>\",\"<span class=\\\"formatted\\\" title=\\\"\\\"><span class=\\\"numbers\\\">1566</span></span>\",\"<span class=\\\"formatted\\\" title=\\\"\\\"><span class=\\\"numbers\\\">73</span></span>\",\"<span class=\\\"formatted\\\" title=\\\"\\\"><span class=\\\"numbers\\\">15</span></span>\",\"<span class=\\\"formatted\\\" title=\\\"\\\"><span class=\\\"numbers\\\">216</span></span>\",\"<span class=\\\"formatted\\\" title=\\\"\\\"><span class=\\\"numbers\\\">492</span></span>\",\"<span class=\\\"formatted\\\" title=\\\"\\\"><span class=\\\"numbers\\\">7769</span></span>\"] }, \n{ name: \"<span title=\\\"nulls: Int\\\">nulls</span>\", children: [], rightAlign: true, values: [\"<span class=\\\"formatted\\\" title=\\\"\\\"><span class=\\\"numbers\\\">0</span></span>\",\"<span class=\\\"formatted\\\" title=\\\"\\\"><span class=\\\"numbers\\\">0</span></span>\",\"<span class=\\\"formatted\\\" title=\\\"\\\"><span class=\\\"numbers\\\">0</span></span>\",\"<span class=\\\"formatted\\\" title=\\\"\\\"><span class=\\\"numbers\\\">2389</span></span>\",\"<span class=\\\"formatted\\\" title=\\\"\\\"><span class=\\\"numbers\\\">718</span></span>\",\"<span class=\\\"formatted\\\" title=\\\"\\\"><span class=\\\"numbers\\\">507</span></span>\",\"<span class=\\\"formatted\\\" title=\\\"\\\"><span class=\\\"numbers\\\">10</span></span>\",\"<span class=\\\"formatted\\\" title=\\\"\\\"><span class=\\\"numbers\\\">0</span></span>\",\"<span class=\\\"formatted\\\" title=\\\"\\\"><span class=\\\"numbers\\\">7</span></span>\",\"<span class=\\\"formatted\\\" title=\\\"\\\"><span class=\\\"numbers\\\">0</span></span>\",\"<span class=\\\"formatted\\\" title=\\\"\\\"><span class=\\\"numbers\\\">0</span></span>\",\"<span class=\\\"formatted\\\" title=\\\"\\\"><span class=\\\"numbers\\\">0</span></span>\"] }, \n{ name: \"<span title=\\\"top: Comparable\\\">top</span>\", children: [], rightAlign: false, values: [\"s1\",\"Movie\",\"3%\",\"Ra&#250;l Campos, Jan Suter\",\"David Attenborough\",\"United States\",\"January 1, 2020\",\"<span class=\\\"formatted\\\" title=\\\"\\\"><span class=\\\"numbers\\\">2018</span></span>\",\"TV-MA\",\"1 Season\",\"Documentaries\",\"<span class=\\\"formatted\\\" title=\\\"Multiple women report their husbands as missing but when it appears they are looking for the same man, a police officer traces their cryptic connection.\\\">Multiple women report their husbands <span class=\\\"structural\\\">...</span></span>\"] }, \n{ name: \"<span title=\\\"freq: Int\\\">freq</span>\", children: [], rightAlign: true, values: [\"<span class=\\\"formatted\\\" title=\\\"\\\"><span class=\\\"numbers\\\">1</span></span>\",\"<span class=\\\"formatted\\\" title=\\\"\\\"><span class=\\\"numbers\\\">5377</span></span>\",\"<span class=\\\"formatted\\\" title=\\\"\\\"><span class=\\\"numbers\\\">1</span></span>\",\"<span class=\\\"formatted\\\" title=\\\"\\\"><span class=\\\"numbers\\\">18</span></span>\",\"<span class=\\\"formatted\\\" title=\\\"\\\"><span class=\\\"numbers\\\">18</span></span>\",\"<span class=\\\"formatted\\\" title=\\\"\\\"><span class=\\\"numbers\\\">2555</span></span>\",\"<span class=\\\"formatted\\\" title=\\\"\\\"><span class=\\\"numbers\\\">118</span></span>\",\"<span class=\\\"formatted\\\" title=\\\"\\\"><span class=\\\"numbers\\\">1121</span></span>\",\"<span class=\\\"formatted\\\" title=\\\"\\\"><span class=\\\"numbers\\\">2863</span></span>\",\"<span class=\\\"formatted\\\" title=\\\"\\\"><span class=\\\"numbers\\\">1608</span></span>\",\"<span class=\\\"formatted\\\" title=\\\"\\\"><span class=\\\"numbers\\\">334</span></span>\",\"<span class=\\\"formatted\\\" title=\\\"\\\"><span class=\\\"numbers\\\">3</span></span>\"] }, \n{ name: \"<span title=\\\"mean: Double?\\\">mean</span>\", children: [], rightAlign: true, values: [\"<span class=\\\"formatted\\\" title=\\\"\\\"><span class=\\\"null\\\">null</span></span>\",\"<span class=\\\"formatted\\\" title=\\\"\\\"><span class=\\\"null\\\">null</span></span>\",\"<span class=\\\"formatted\\\" title=\\\"\\\"><span class=\\\"null\\\">null</span></span>\",\"<span class=\\\"formatted\\\" title=\\\"\\\"><span class=\\\"null\\\">null</span></span>\",\"<span class=\\\"formatted\\\" title=\\\"\\\"><span class=\\\"null\\\">null</span></span>\",\"<span class=\\\"formatted\\\" title=\\\"\\\"><span class=\\\"null\\\">null</span></span>\",\"<span class=\\\"formatted\\\" title=\\\"\\\"><span class=\\\"null\\\">null</span></span>\",\"<span class=\\\"formatted\\\" title=\\\"\\\"><span class=\\\"numbers\\\">2013.932580</span></span>\",\"<span class=\\\"formatted\\\" title=\\\"\\\"><span class=\\\"null\\\">null</span></span>\",\"<span class=\\\"formatted\\\" title=\\\"\\\"><span class=\\\"null\\\">null</span></span>\",\"<span class=\\\"formatted\\\" title=\\\"\\\"><span class=\\\"null\\\">null</span></span>\",\"<span class=\\\"formatted\\\" title=\\\"\\\"><span class=\\\"null\\\">null</span></span>\"] }, \n{ name: \"<span title=\\\"std: Double?\\\">std</span>\", children: [], rightAlign: true, values: [\"<span class=\\\"formatted\\\" title=\\\"\\\"><span class=\\\"null\\\">null</span></span>\",\"<span class=\\\"formatted\\\" title=\\\"\\\"><span class=\\\"null\\\">null</span></span>\",\"<span class=\\\"formatted\\\" title=\\\"\\\"><span class=\\\"null\\\">null</span></span>\",\"<span class=\\\"formatted\\\" title=\\\"\\\"><span class=\\\"null\\\">null</span></span>\",\"<span class=\\\"formatted\\\" title=\\\"\\\"><span class=\\\"null\\\">null</span></span>\",\"<span class=\\\"formatted\\\" title=\\\"\\\"><span class=\\\"null\\\">null</span></span>\",\"<span class=\\\"formatted\\\" title=\\\"\\\"><span class=\\\"null\\\">null</span></span>\",\"<span class=\\\"formatted\\\" title=\\\"\\\"><span class=\\\"numbers\\\">772.737733</span></span>\",\"<span class=\\\"formatted\\\" title=\\\"\\\"><span class=\\\"null\\\">null</span></span>\",\"<span class=\\\"formatted\\\" title=\\\"\\\"><span class=\\\"null\\\">null</span></span>\",\"<span class=\\\"formatted\\\" title=\\\"\\\"><span class=\\\"null\\\">null</span></span>\",\"<span class=\\\"formatted\\\" title=\\\"\\\"><span class=\\\"null\\\">null</span></span>\"] }, \n{ name: \"<span title=\\\"min: Comparable\\\">min</span>\", children: [], rightAlign: false, values: [\"s1\",\"Movie\",\"#Alive\",\"A. L. Vijay\",\"<span class=\\\"formatted\\\" title=\\\"&#39;Najite Dede, Jude Chukwuka, Taiwo Arimoro, Odenike Odetola, Funmi Eko, Keppy Ekpenyong\\\">&#39;Najite Dede, Jude Chukwuka, Taiwo Ar<span class=\\\"structural\\\">...</span></span>\",\"Argentina\",\" April 15, 2018\",\"<span class=\\\"formatted\\\" title=\\\"\\\"><span class=\\\"numbers\\\">1925</span></span>\",\"G\",\"1 Season\",\"Action &#38; Adventure\",\"<span class=\\\"formatted\\\" title=\\\"&#34;Brooklyn Nine-Nine&#34; star Chelsea Peretti showcases her diverse talents in this dark yet silly reimagining of the comedy special.\\\">&#34;Brooklyn Nine-Nine&#34; star Chelsea Per<span class=\\\"structural\\\">...</span></span>\"] }, \n{ name: \"<span title=\\\"median: Comparable\\\">median</span>\", children: [], rightAlign: false, values: [\"s4502\",\"Movie\",\"Manhunt\",\"Lance Bangs\",\"<span class=\\\"formatted\\\" title=\\\"Kay Kay Menon, Shiney Ahuja, Chitrangada Singh, Ram Kapoor, Saurabh Shukla, Yashpal Sharma, Jasbir Malik, Sohrab Ardeshir, Aditya Bhattacharya, Arif Zakaria\\\">Kay Kay Menon, Shiney Ahuja, Chitrang<span class=\\\"structural\\\">...</span></span>\",\"Thailand\",\"July 6, 2020\",\"<span class=\\\"formatted\\\" title=\\\"\\\"><span class=\\\"numbers\\\">2017</span></span>\",\"TV-MA\",\"148 min\",\"Documentaries, Sports Movies\",\"<span class=\\\"formatted\\\" title=\\\"In a 1950s orphanage, a young girl reveals an astonishing talent for chess and begins an unlikely journey to stardom while grappling with addiction.\\\">In a 1950s orphanage, a young girl re<span class=\\\"structural\\\">...</span></span>\"] }, \n{ name: \"<span title=\\\"max: Comparable\\\">max</span>\", children: [], rightAlign: false, values: [\"s999\",\"TV Show\",\"&#52572;&#44053;&#51204;&#49324; &#48120;&#45768;&#53945;&#44277;&#45824; : &#50689;&#50885;&#51032; &#53444;&#49373;\",\"&#350;enol S&#246;nmez\",\"<span class=\\\"formatted\\\" title=\\\"&#7778;&#7885;p&#7865;&#769; D&#236;r&#237;s&#249;, Wunmi Mosaku, Matt Smith, Malaika Wakoli-Abigaba\\\">&#7778;&#7885;p&#7865;&#769; D&#236;r&#237;s&#249;, Wunmi Mosaku, Matt Smit<span class=\\\"structural\\\">...</span></span>\",\"Zimbabwe\",\"September 9, 2020\",\"<span class=\\\"formatted\\\" title=\\\"\\\"><span class=\\\"numbers\\\">2021</span></span>\",\"UR\",\"99 min\",\"Thrillers\",\"<span class=\\\"formatted\\\" title=\\\"Zoe Walker leaves her quiet life behind to investigate her brother&#39;s disappearance in Ibiza, where she quickly heads down a decadent and dangerous path.\\\">Zoe Walker leaves her quiet life behi<span class=\\\"structural\\\">...</span></span>\"] }, \n], id: 1275068420, rootId: 1275068420 } ) });\n/*-->*/\n\ncall_DataFrame(function() { DataFrame.renderTable(1275068420) });\n\n\n        </script>\n        </html>"
     },
     "execution_count": 66,
     "metadata": {},
     "output_type": "execute_result"
    }
   ],
   "source": [
    "// Getting general statistics and info for each columns\n",
    "raw_df.describe()"
   ]
  },
  {
   "cell_type": "markdown",
   "metadata": {},
   "source": [
    "Data consists of Netflix TV shows and movies up to 2020. Each row contains information about one specific project and consists of:\n",
    "* `show_id` - unique show number\n",
    "* `type` - ***TV Show*** or ***Movie***\n",
    "* `title` - the name of a TV show or movie\n",
    "* `director` - director's name\n",
    "* `cast` - cast list\n",
    "* `country` - the country where the title was released\n",
    "* `date_added` - when the title was added on netflix\n",
    "* `release_year` - the year the title was released\n",
    "* `rating` - rating of the title\n",
    "* `listed_in` - in which lists/genres the title is present on netflix\n",
    "* `description` - title description"
   ]
  },
  {
   "cell_type": "markdown",
   "metadata": {},
   "source": [
    "Before we get started, let's process the dataframe. It can be seen that `date_added` is of type `String`, let's [convert](https://kotlin.github.io/dataframe/convert.html) it to `LocalDate` for further convenience. Kotlin DataFrame provides built-in type converters for major types. We will use `String` -> `LocalDate` conversion and specify date format [pattern](https://docs.oracle.com/javase/8/docs/api/java/time/format/DateTimeFormatter.html)"
   ]
  },
  {
   "cell_type": "code",
   "execution_count": 67,
   "metadata": {},
   "outputs": [
    {
     "name": "stderr",
     "output_type": "stream",
     "text": [
      "Can't convert `August 14, 2020` to LocalDate\n",
      "java.lang.IllegalStateException: Can't convert `August 14, 2020` to LocalDate\n",
      "org.jetbrains.kotlinx.jupyter.ReplEvalRuntimeException: Can't convert `August 14, 2020` to LocalDate\r\n",
      "\tat org.jetbrains.kotlinx.jupyter.repl.impl.InternalEvaluatorImpl.eval(InternalEvaluatorImpl.kt:106)\r\n",
      "\tat org.jetbrains.kotlinx.jupyter.repl.impl.CellExecutorImpl$execute$1$result$1.invoke(CellExecutorImpl.kt:64)\r\n",
      "\tat org.jetbrains.kotlinx.jupyter.repl.impl.CellExecutorImpl$execute$1$result$1.invoke(CellExecutorImpl.kt:63)\r\n",
      "\tat org.jetbrains.kotlinx.jupyter.ReplForJupyterImpl.withHost(repl.kt:598)\r\n",
      "\tat org.jetbrains.kotlinx.jupyter.repl.impl.CellExecutorImpl.execute(CellExecutorImpl.kt:63)\r\n",
      "\tat org.jetbrains.kotlinx.jupyter.repl.CellExecutor$DefaultImpls.execute$default(CellExecutor.kt:13)\r\n",
      "\tat org.jetbrains.kotlinx.jupyter.ReplForJupyterImpl$evalEx$1.invoke(repl.kt:421)\r\n",
      "\tat org.jetbrains.kotlinx.jupyter.ReplForJupyterImpl$evalEx$1.invoke(repl.kt:410)\r\n",
      "\tat org.jetbrains.kotlinx.jupyter.ReplForJupyterImpl.withEvalContext(repl.kt:374)\r\n",
      "\tat org.jetbrains.kotlinx.jupyter.ReplForJupyterImpl.evalEx(repl.kt:410)\r\n",
      "\tat org.jetbrains.kotlinx.jupyter.ReplForJupyterImpl.eval(repl.kt:458)\r\n",
      "\tat org.jetbrains.kotlinx.jupyter.ProtocolKt$shellMessagesHandler$res$1.invoke(protocol.kt:290)\r\n",
      "\tat org.jetbrains.kotlinx.jupyter.ProtocolKt$shellMessagesHandler$res$1.invoke(protocol.kt:289)\r\n",
      "\tat org.jetbrains.kotlinx.jupyter.JupyterConnection$runExecution$execThread$1.invoke(connection.kt:166)\r\n",
      "\tat org.jetbrains.kotlinx.jupyter.JupyterConnection$runExecution$execThread$1.invoke(connection.kt:164)\r\n",
      "\tat kotlin.concurrent.ThreadsKt$thread$thread$1.run(Thread.kt:30)\r\n",
      "Caused by: java.lang.IllegalStateException: Can't convert `August 14, 2020` to LocalDate\r\n",
      "\tat org.jetbrains.kotlinx.dataframe.api.ConvertKt$convertToLocalDate$6.invoke(convert.kt:150)\r\n",
      "\tat org.jetbrains.kotlinx.dataframe.api.ConvertKt$convertToLocalDate$6.invoke(convert.kt:150)\r\n",
      "\tat org.jetbrains.kotlinx.dataframe.api.DataColumnIterableKt.map(DataColumnIterable.kt:30)\r\n",
      "\tat org.jetbrains.kotlinx.dataframe.api.ConvertKt.convertToLocalDateString?(convert.kt:150)\r\n",
      "\tat org.jetbrains.kotlinx.dataframe.api.ConvertKt$toLocalDate$3.invoke(convert.kt:158)\r\n",
      "\tat org.jetbrains.kotlinx.dataframe.api.ConvertKt$toLocalDate$3.invoke(convert.kt:158)\r\n",
      "\tat org.jetbrains.kotlinx.dataframe.api.ConvertKt$to$2.invoke(convert.kt:90)\r\n",
      "\tat org.jetbrains.kotlinx.dataframe.api.ConvertKt$to$2.invoke(convert.kt:90)\r\n",
      "\tat org.jetbrains.kotlinx.dataframe.api.ReplaceKt.with(replace.kt:45)\r\n",
      "\tat org.jetbrains.kotlinx.dataframe.api.ConvertKt.to(convert.kt:90)\r\n",
      "\tat org.jetbrains.kotlinx.dataframe.api.ConvertKt.toLocalDate(convert.kt:158)\r\n",
      "\tat org.jetbrains.kotlinx.dataframe.api.ConvertKt.toLocalDate$default(convert.kt:158)\r\n",
      "\tat Line_86.<init>(Line_86.jupyter-kts:4)\r\n",
      "\tat java.base/jdk.internal.reflect.NativeConstructorAccessorImpl.newInstance0(Native Method)\r\n",
      "\tat java.base/jdk.internal.reflect.NativeConstructorAccessorImpl.newInstance(NativeConstructorAccessorImpl.java:62)\r\n",
      "\tat java.base/jdk.internal.reflect.DelegatingConstructorAccessorImpl.newInstance(DelegatingConstructorAccessorImpl.java:45)\r\n",
      "\tat java.base/java.lang.reflect.Constructor.newInstance(Constructor.java:490)\r\n",
      "\tat kotlin.script.experimental.jvm.BasicJvmScriptEvaluator.evalWithConfigAndOtherScriptsResults(BasicJvmScriptEvaluator.kt:98)\r\n",
      "\tat kotlin.script.experimental.jvm.BasicJvmScriptEvaluator.invoke$suspendImpl(BasicJvmScriptEvaluator.kt:43)\r\n",
      "\tat kotlin.script.experimental.jvm.BasicJvmScriptEvaluator.invoke(BasicJvmScriptEvaluator.kt)\r\n",
      "\tat kotlin.script.experimental.jvm.BasicJvmReplEvaluator.eval(BasicJvmReplEvaluator.kt:51)\r\n",
      "\tat org.jetbrains.kotlinx.jupyter.repl.impl.InternalEvaluatorImpl$eval$resultWithDiagnostics$1.invokeSuspend(InternalEvaluatorImpl.kt:99)\r\n",
      "\tat kotlin.coroutines.jvm.internal.BaseContinuationImpl.resumeWith(ContinuationImpl.kt:33)\r\n",
      "\tat kotlinx.coroutines.DispatchedTask.run(DispatchedTask.kt:106)\r\n",
      "\tat kotlinx.coroutines.EventLoopImplBase.processNextEvent(EventLoop.common.kt:274)\r\n",
      "\tat kotlinx.coroutines.BlockingCoroutine.joinBlocking(Builders.kt:85)\r\n",
      "\tat kotlinx.coroutines.BuildersKt__BuildersKt.runBlocking(Builders.kt:59)\r\n",
      "\tat kotlinx.coroutines.BuildersKt.runBlocking(Unknown Source)\r\n",
      "\tat kotlinx.coroutines.BuildersKt__BuildersKt.runBlocking$default(Builders.kt:38)\r\n",
      "\tat kotlinx.coroutines.BuildersKt.runBlocking$default(Unknown Source)\r\n",
      "\tat org.jetbrains.kotlinx.jupyter.repl.impl.InternalEvaluatorImpl.eval(InternalEvaluatorImpl.kt:99)\r\n",
      "\t... 15 more\r\n",
      "\n"
     ]
    }
   ],
   "source": [
    "val df = raw_df.dropNulls { date_added } // remove rows where `date_added` is not specified\n",
    "        .convert { date_added }.toLocalDate(\"MMMM d, yyyy\") // convert date_added to LocalDate using date pattern\n",
    "// let's look at what type of column it turned out\n",
    "df.date_added.type() "
   ]
  },
  {
   "cell_type": "markdown",
   "metadata": {},
   "source": [
    "## TV Shows and Movies"
   ]
  },
  {
   "cell_type": "markdown",
   "metadata": {},
   "source": [
    "First, let's see what more shows or films."
   ]
  },
  {
   "cell_type": "code",
   "execution_count": 68,
   "metadata": {},
   "outputs": [
    {
     "data": {
      "text/html": "   <div id=\"GUYpHA\"></div>\n   <script type=\"text/javascript\" data-lets-plot-script=\"plot\">\n       (function() {\n           var plotSpec={\n\"ggtitle\":{\n\"text\":\"Count of TV Shows and Movies\"\n},\n\"mapping\":{\n},\n\"data\":{\n},\n\"ggsize\":{\n\"width\":900.0,\n\"height\":550.0\n},\n\"kind\":\"plot\",\n\"scales\":[{\n\"aesthetic\":\"fill\",\n\"values\":[\"#00BCD4\",\"#009688\"]\n}],\n\"layers\":[{\n\"mapping\":{\n\"x\":\"type\",\n\"fill\":\"type\"\n},\n\"stat\":\"count\",\n\"position\":\"stack\",\n\"geom\":\"bar\",\n\"data\":{\n\"..count..\":[2410.0,5377.0],\n\"type\":[\"TV Show\",\"Movie\"]\n}\n}]\n};\n           var plotContainer = document.getElementById(\"GUYpHA\");\n           window.letsPlotCall(function() {{\n               LetsPlot.buildPlotFromProcessedSpecs(plotSpec, -1, -1, plotContainer);\n           }});\n       })();    \n   </script>"
     },
     "execution_count": 68,
     "metadata": {},
     "output_type": "execute_result"
    }
   ],
   "source": [
    "ggplot(raw_df.toMap()) +\n",
    "    geomBar() { x=\"type\"; fill=\"type\" } +\n",
    "    scaleFillManual(listOf(\"#00BCD4\", \"#009688\")) +\n",
    "    ggtitle(\"Count of TV Shows and Movies\") +\n",
    "    ggsize(900, 550)"
   ]
  },
  {
   "cell_type": "markdown",
   "metadata": {},
   "source": [
    "It can be seen that the number of films on Netflix is about twice the number of TV shows. But has it always been this way? To do this, let's see if there was such a year when the number of TV Shows was more than Movies and let's see the cumulative amount for Movies and TV Shows."
   ]
  },
  {
   "cell_type": "code",
   "execution_count": 69,
   "metadata": {},
   "outputs": [
    {
     "name": "stderr",
     "output_type": "stream",
     "text": [
      "Line_89.jupyter-kts (3:57 - 61) Unresolved reference: year"
     ]
    }
   ],
   "source": [
    "val df_date_count = df.convert { date_added }.with { it.year } // converting `date_added` to extract `year`\n",
    "  .groupBy { date_added } // grouping by `year` stored in `date_added`\n",
    "  .aggregate { \n",
    "      count { type == \"TV Show\" } into \"tvshows\" // counting TV Shows into column `tvshows`\n",
    "      count { type == \"Movie\" } into \"movies\" // counting Movies into column `movies`\n",
    "  }\n",
    "df_date_count"
   ]
  },
  {
   "cell_type": "markdown",
   "metadata": {},
   "source": [
    "Let's hold on and see how we can simplify this expression using more advanced operations. First of all, we can combine conversion of `date_added` into `year` and grouping using [`map`](https://kotlin.github.io/dataframe/map.html) function within [column selector](https://kotlin.github.io/dataframe/columnselectors.html)."
   ]
  },
  {
   "cell_type": "code",
   "execution_count": 70,
   "metadata": {},
   "outputs": [
    {
     "name": "stderr",
     "output_type": "stream",
     "text": [
      "Line_90.jupyter-kts (3:54 - 58) Unresolved reference: year"
     ]
    }
   ],
   "source": [
    "val df_date_count = df.groupBy { date_added.map { it.year } } // grouping by year added extracted from `date_added`\n",
    "  .aggregate { \n",
    "      count { type == \"TV Show\" } into \"tvshows\" // counting TV Shows into column `tvshows`\n",
    "      count { type == \"Movie\" } into \"movies\" // counting Movies into column `movies`\n",
    "  }"
   ]
  },
  {
   "cell_type": "markdown",
   "metadata": {},
   "source": [
    "Our [groupBy aggregation](https://kotlin.github.io/dataframe/groupby.html#aggregation) adds new columns for \"TV Show\" and \"Movie\". This is exactly what [`pivot`](https://kotlin.github.io/dataframe/pivot.html) does: generates new columns for every unique value in `type`."
   ]
  },
  {
   "cell_type": "code",
   "execution_count": 71,
   "metadata": {},
   "outputs": [
    {
     "name": "stderr",
     "output_type": "stream",
     "text": [
      "Line_91.jupyter-kts (3:34 - 38) Unresolved reference: year"
     ]
    }
   ],
   "source": [
    "df.groupBy { date_added.map { it.year } }\n",
    "  .pivot { type }"
   ]
  },
  {
   "cell_type": "markdown",
   "metadata": {},
   "source": [
    "After `type` column is pivoted, we call [`aggregate`](https://kotlin.github.io/dataframe/pivot.html#aggregation) to specify metrics to be calculated for every data group."
   ]
  },
  {
   "cell_type": "code",
   "execution_count": 72,
   "metadata": {},
   "outputs": [
    {
     "name": "stderr",
     "output_type": "stream",
     "text": [
      "Line_92.jupyter-kts (3:34 - 38) Unresolved reference: year"
     ]
    }
   ],
   "source": [
    "df.groupBy { date_added.map { it.year } }\n",
    "  .pivot { type }.aggregate { count () }"
   ]
  },
  {
   "cell_type": "markdown",
   "metadata": {},
   "source": [
    "Simple statistics can be aggregated without `aggregate`:"
   ]
  },
  {
   "cell_type": "code",
   "execution_count": 73,
   "metadata": {},
   "outputs": [
    {
     "name": "stderr",
     "output_type": "stream",
     "text": [
      "Line_93.jupyter-kts (3:34 - 38) Unresolved reference: year"
     ]
    }
   ],
   "source": [
    "df.groupBy { date_added.map { it.year } }\n",
    "  .pivot { type }.count()"
   ]
  },
  {
   "cell_type": "markdown",
   "metadata": {},
   "source": [
    "For `count` statistics there is even shorter API [`pivotCounts`](https://kotlin.github.io/dataframe/pivot.html#pivotcounts).\n",
    "\n",
    "Here is the final version:"
   ]
  },
  {
   "cell_type": "code",
   "execution_count": 74,
   "metadata": {},
   "outputs": [
    {
     "name": "stderr",
     "output_type": "stream",
     "text": [
      "Line_94.jupyter-kts (3:54 - 58) Unresolved reference: year"
     ]
    }
   ],
   "source": [
    "val df_date_count = df.groupBy { date_added.map { it.year } }.pivotCounts { type }\n",
    "df_date_count"
   ]
  },
  {
   "cell_type": "markdown",
   "metadata": {},
   "source": [
    "Now we will prepare dataframe for rendering. We will call [`flatten`](https://kotlin.github.io/dataframe/flatten.html) to remove column grouping and convert dataframe to `Map`."
   ]
  },
  {
   "cell_type": "code",
   "execution_count": 75,
   "metadata": {},
   "outputs": [
    {
     "name": "stderr",
     "output_type": "stream",
     "text": [
      "Line_95.jupyter-kts (3:12 - 25) Unresolved reference: df_date_count"
     ]
    }
   ],
   "source": [
    "val data = df_date_count.flatten().toMap()\n",
    "\n",
    "ggplot(data) +\n",
    "    geomArea(color = \"#BF360C\", fill = \"#BF360C\", alpha = 0.5) { x=\"date_added\"; y=\"TV Show\" } +\n",
    "    geomArea(color = \"#01579B\", fill = \"#01579B\", alpha = 0.5) { x=\"date_added\"; y=\"Movie\" } +\n",
    "    theme(\n",
    "        panelBackground = elementRect(color=\"#ECEFF1\", fill = \"#ECEFF1\"),\n",
    "        panelGrid = elementBlank(),\n",
    "    ) +\n",
    "    xlab(\"year\") +\n",
    "    ylab(\"count\") +\n",
    "    ggtitle(\"Number of titles by year\") +\n",
    "    ggsize(800, 500)"
   ]
  },
  {
   "cell_type": "markdown",
   "metadata": {},
   "source": [
    "It can be seen that more films were added every year than shows. Obviously, the cumulative sum of the movies was also always higher than the TV Shows, but let's build such a plot."
   ]
  },
  {
   "cell_type": "code",
   "execution_count": 76,
   "metadata": {},
   "outputs": [
    {
     "name": "stderr",
     "output_type": "stream",
     "text": [
      "Line_96.jupyter-kts (3:24 - 37) Unresolved reference: df_date_count\n",
      "Line_96.jupyter-kts (4:15 - 25) Unresolved reference. None of the following candidates is applicable because of receiver type mismatch: \n",
      "public final val ColumnsContainer<Line_10._DataFrameType>.date_added: DataColumn<String?> defined in Line_10\n",
      "public final val DataRow<Line_10._DataFrameType>.date_added: String? defined in Line_10\n",
      "Line_96.jupyter-kts (5:15 - 19) Unresolved reference. None of the following candidates is applicable because of receiver type mismatch: \n",
      "public final val ColumnsContainer<Line_10._DataFrameType>.type: DataColumn<String> defined in Line_10\n",
      "public final val DataRow<Line_10._DataFrameType>.type: String defined in Line_10"
     ]
    }
   ],
   "source": [
    "val df_cumsum_titles = df_date_count\n",
    "    .sortBy { date_added } // sorting by date_added\n",
    "    .cumSum { type.all() } // count cumulative sum for columns `TV Show` and `Movie` that are nested under column `type`\n",
    "df_cumsum_titles"
   ]
  },
  {
   "cell_type": "code",
   "execution_count": 77,
   "metadata": {},
   "outputs": [
    {
     "name": "stderr",
     "output_type": "stream",
     "text": [
      "Line_97.jupyter-kts (3:8 - 24) Unresolved reference: df_cumsum_titles"
     ]
    }
   ],
   "source": [
    "ggplot(df_cumsum_titles.flatten().toMap()) +\n",
    "    geomArea(color = \"#BF360C\", fill = \"#BF360C\", alpha = 0.5) { x=\"date_added\"; y=\"TV Show\" } +\n",
    "    geomArea(color = \"#01579B\", fill = \"#01579B\", alpha = 0.5) { x=\"date_added\"; y=\"Movie\" } +\n",
    "    theme(\n",
    "        panelBackground = elementRect(color=\"#ECEFF1\", fill = \"#ECEFF1\"),\n",
    "        panelGrid = elementBlank(),\n",
    "    ) +\n",
    "    xlab(\"year\") +\n",
    "    ylab(\"cumulative count\") +\n",
    "    ggtitle(\"Cumulative count of titles by year\") +\n",
    "    ggsize(800, 500)"
   ]
  },
  {
   "cell_type": "markdown",
   "metadata": {},
   "source": [
    "## Lifetimes and Release Times"
   ]
  },
  {
   "cell_type": "markdown",
   "metadata": {},
   "source": [
    "Let's take a look at the distribution by the lifetime of titles on the platform. To do this, find the most recently uploaded title and calculate the difference between the date it was added and the maximum date found."
   ]
  },
  {
   "cell_type": "code",
   "execution_count": 78,
   "metadata": {},
   "outputs": [],
   "source": [
    "import kotlinx.datetime.*"
   ]
  },
  {
   "cell_type": "code",
   "execution_count": 79,
   "metadata": {},
   "outputs": [
    {
     "name": "stderr",
     "output_type": "stream",
     "text": [
      "Line_99.jupyter-kts (5:42 - 51) Unresolved reference. None of the following candidates is applicable because of receiver type mismatch: \n",
      "public fun Instant.daysUntil(other: Instant, timeZone: TimeZone): Int defined in kotlinx.datetime\n",
      "public fun LocalDate.daysUntil(other: LocalDate): Int defined in kotlinx.datetime\n",
      "Line_99.jupyter-kts (6:44 - 55) Unresolved reference. None of the following candidates is applicable because of receiver type mismatch: \n",
      "public fun Instant.monthsUntil(other: Instant, timeZone: TimeZone): Int defined in kotlinx.datetime\n",
      "public fun LocalDate.monthsUntil(other: LocalDate): Int defined in kotlinx.datetime\n",
      "Line_99.jupyter-kts (7:43 - 53) Unresolved reference. None of the following candidates is applicable because of receiver type mismatch: \n",
      "public fun Instant.yearsUntil(other: Instant, timeZone: TimeZone): Int defined in kotlinx.datetime\n",
      "public fun LocalDate.yearsUntil(other: LocalDate): Int defined in kotlinx.datetime"
     ]
    }
   ],
   "source": [
    "val maxDate = df.date_added.max()\n",
    "val df_days = df.add {\n",
    "    \"days_on_platform\" from { date_added.daysUntil(maxDate) } // adding column for number of days on the platform\n",
    "    \"months_on_platform\" from { date_added.monthsUntil(maxDate) } // adding column for number of months on the platform\n",
    "    \"years_on_platform\" from { date_added.yearsUntil(maxDate) } // // adding column for number of years on the platform\n",
    "}"
   ]
  },
  {
   "cell_type": "code",
   "execution_count": 80,
   "metadata": {},
   "outputs": [
    {
     "name": "stderr",
     "output_type": "stream",
     "text": [
      "Line_100.jupyter-kts (3:19 - 26) Unresolved reference: df_days"
     ]
    }
   ],
   "source": [
    "val plot = ggplot(df_days[\"type\", \"days_on_platform\"].toMap())\n",
    "val p1 = plot + \n",
    "        geomHistogram(color=\"#ECEFF1\", fill=\"#ef0b0b\") { x=\"days_on_platform\"; y=\"..density..\" } +\n",
    "        geomDensity(alpha=0.5, fill=\"#0befef\") { x=\"days_on_platform\" } +\n",
    "        xlab(\"days\") + ggtitle(\"Age distribution (in days) on Netflix\")\n",
    "val p2 = plot +\n",
    "        geomBoxplot() { x=\"type\"; y=\"days_on_platform\"; fill=\"type\" } +\n",
    "        scaleFillManual(listOf(\"#792020\", \"#207979\")) +\n",
    "        ylab(\"days\") + ggtitle(\"Boxplot for age (in days) by type\")\n",
    "\n",
    "GGBunch()\n",
    "    .addPlot(p1, 0, 0, 500, 450)\n",
    "    .addPlot(p2, 500, 0, 500, 450)"
   ]
  },
  {
   "cell_type": "markdown",
   "metadata": {},
   "source": [
    "The age distribution of titles on the platform is similar to movies and TV shows. But you can see in the second graph that there are very old titles among the movies compared to the shows. Let's take a closer look at this moment. To do this, let's build a graph of the duration in years of being on the platform of films and shows."
   ]
  },
  {
   "cell_type": "code",
   "execution_count": 81,
   "metadata": {},
   "outputs": [
    {
     "name": "stderr",
     "output_type": "stream",
     "text": [
      "Line_101.jupyter-kts (3:8 - 15) Unresolved reference: df_days\n",
      "Line_101.jupyter-kts (3:25 - 29) Unresolved reference. None of the following candidates is applicable because of receiver type mismatch: \n",
      "public final val ColumnsContainer<Line_10._DataFrameType>.type: DataColumn<String> defined in Line_10\n",
      "public final val DataRow<Line_10._DataFrameType>.type: String defined in Line_10\n",
      "Line_101.jupyter-kts (3:34 - 51) Unresolved reference: years_on_platform"
     ]
    }
   ],
   "source": [
    "ggplot(df_days.select { type and years_on_platform }.toMap()) + // selecting two columns\n",
    "    geomBar(position = Pos.dodge) { x = \"years_on_platform\"; fill = \"type\" } +\n",
    "    scaleFillManual(listOf(\"#bc3076\", \"#30bc76\")) +\n",
    "    xlab(\"years\") +\n",
    "    ggtitle(\"Years of Movies and TV Shows on Netflix\") +\n",
    "    ggsize(900, 500)"
   ]
  },
  {
   "cell_type": "markdown",
   "metadata": {},
   "source": [
    "As you can see, movies are usually older than TV shows.\n",
    "After that, you might ask yourself: how quickly were titles added to Netflix after their release? Well, finding the answer to it will be quite simple."
   ]
  },
  {
   "cell_type": "code",
   "execution_count": 82,
   "metadata": {},
   "outputs": [
    {
     "name": "stderr",
     "output_type": "stream",
     "text": [
      "Line_102.jupyter-kts (6:32 - 36) Unresolved reference: year"
     ]
    }
   ],
   "source": [
    "val df_years = df\n",
    "                // adding a new column of the difference between the year of release and the year of addition\n",
    "                .add(\"years_off_platform\") {\n",
    "                    date_added.year - release_year\n",
    "                }\n",
    "                // dropping negative values and equal to zero\n",
    "                .filter { \"years_off_platform\"<Int>() > 0 }"
   ]
  },
  {
   "cell_type": "markdown",
   "metadata": {},
   "source": [
    "We dropped negative values because it happens that titles are added to the platform while it is still in production. Also dropped the zero values as they are of no interest. "
   ]
  },
  {
   "cell_type": "code",
   "execution_count": 83,
   "metadata": {},
   "outputs": [
    {
     "name": "stderr",
     "output_type": "stream",
     "text": [
      "Line_103.jupyter-kts (3:8 - 16) Unresolved reference: df_years\n",
      "Line_103.jupyter-kts (3:26 - 44) Unresolved reference: years_off_platform\n",
      "Line_103.jupyter-kts (4:5 - 14) Cannot access class 'jetbrains.letsPlot.spatial.SpatialDataset'. Check your module classpath for missing or conflicting dependencies"
     ]
    }
   ],
   "source": [
    "ggplot(df_years.select { years_off_platform }.toMap()) + \n",
    "    geomPoint(stat = Stat.count(), size = 7.5) { x=\"years_off_platform\"; color=\"years_off_platform\" } +\n",
    "    scaleColorGradient(low = \"#97a6d0\", high = \"#00256e\") +\n",
    "    theme().legendPosition(0.9, 0.83) +\n",
    "    xlab(\"years\") +\n",
    "    ggtitle(\"How long does it take for a title to be added to Netflix?\") +\n",
    "    ggsize(1000, 500)"
   ]
  },
  {
   "cell_type": "markdown",
   "metadata": {},
   "source": [
    "Well, let's build the informal top charts for the oldest and newest movies and TV shows."
   ]
  },
  {
   "cell_type": "markdown",
   "metadata": {},
   "source": [
    "* ***Top 5 movies with the most days on Netflix***"
   ]
  },
  {
   "cell_type": "code",
   "execution_count": 84,
   "metadata": {},
   "outputs": [
    {
     "name": "stderr",
     "output_type": "stream",
     "text": [
      "Line_104.jupyter-kts (4:1 - 8) Unresolved reference: df_days\n",
      "Line_104.jupyter-kts (5:15 - 19) Unresolved reference. None of the following candidates is applicable because of receiver type mismatch: \n",
      "public final val ColumnsContainer<Line_10._DataFrameType>.type: DataColumn<String> defined in Line_10\n",
      "public final val DataRow<Line_10._DataFrameType>.type: String defined in Line_10\n",
      "Line_104.jupyter-kts (6:19 - 35) Unresolved reference: days_on_platform\n",
      "Line_104.jupyter-kts (7:15 - 19) Unresolved reference. None of the following candidates is applicable because of receiver type mismatch: \n",
      "public final val ColumnsContainer<Line_10._DataFrameType>.type: DataColumn<String> defined in Line_10\n",
      "public final val DataRow<Line_10._DataFrameType>.type: String defined in Line_10\n",
      "Line_104.jupyter-kts (7:24 - 29) Unresolved reference. None of the following candidates is applicable because of receiver type mismatch: \n",
      "public final val ColumnsContainer<Line_10._DataFrameType>.title: DataColumn<String> defined in Line_10\n",
      "public final val DataRow<Line_10._DataFrameType>.title: String defined in Line_10\n",
      "Line_104.jupyter-kts (7:34 - 41) Unresolved reference. None of the following candidates is applicable because of receiver type mismatch: \n",
      "public final val ColumnsContainer<Line_50._DataFrameType1>.country: DataColumn<String?> defined in Line_50\n",
      "public final val DataRow<Line_50._DataFrameType1>.country: String? defined in Line_50\n",
      "Line_104.jupyter-kts (7:46 - 56) Unresolved reference. None of the following candidates is applicable because of receiver type mismatch: \n",
      "public final val ColumnsContainer<Line_10._DataFrameType>.date_added: DataColumn<String?> defined in Line_10\n",
      "public final val DataRow<Line_10._DataFrameType>.date_added: String? defined in Line_10\n",
      "Line_104.jupyter-kts (7:61 - 73) Unresolved reference. None of the following candidates is applicable because of receiver type mismatch: \n",
      "public final val ColumnsContainer<Line_10._DataFrameType>.release_year: DataColumn<Int> defined in Line_10\n",
      "public final val DataRow<Line_10._DataFrameType>.release_year: Int defined in Line_10\n",
      "Line_104.jupyter-kts (7:78 - 86) Unresolved reference. None of the following candidates is applicable because of receiver type mismatch: \n",
      "public final val ColumnsContainer<Line_10._DataFrameType>.duration: DataColumn<String> defined in Line_10\n",
      "public final val DataRow<Line_10._DataFrameType>.duration: String defined in Line_10"
     ]
    }
   ],
   "source": [
    "// Top 5 oldest movies\n",
    "df_days\n",
    "    .filter { type == \"Movie\" } // filtering by type\n",
    "    .sortByDesc { days_on_platform } // sorting by number of days on Netflix\n",
    "    .select { type and title and country and date_added and release_year and duration } // selecting required columns\n",
    "    .head() // taking first five rows"
   ]
  },
  {
   "cell_type": "markdown",
   "metadata": {},
   "source": [
    "* ***Top 5 movies recently added on Netflix***"
   ]
  },
  {
   "cell_type": "code",
   "execution_count": 85,
   "metadata": {},
   "outputs": [
    {
     "name": "stderr",
     "output_type": "stream",
     "text": [
      "Line_105.jupyter-kts (4:1 - 8) Unresolved reference: df_days\n",
      "Line_105.jupyter-kts (5:15 - 19) Unresolved reference. None of the following candidates is applicable because of receiver type mismatch: \n",
      "public final val ColumnsContainer<Line_10._DataFrameType>.type: DataColumn<String> defined in Line_10\n",
      "public final val DataRow<Line_10._DataFrameType>.type: String defined in Line_10\n",
      "Line_105.jupyter-kts (6:15 - 31) Unresolved reference: days_on_platform\n",
      "Line_105.jupyter-kts (7:15 - 19) Unresolved reference. None of the following candidates is applicable because of receiver type mismatch: \n",
      "public final val ColumnsContainer<Line_10._DataFrameType>.type: DataColumn<String> defined in Line_10\n",
      "public final val DataRow<Line_10._DataFrameType>.type: String defined in Line_10\n",
      "Line_105.jupyter-kts (7:24 - 29) Unresolved reference. None of the following candidates is applicable because of receiver type mismatch: \n",
      "public final val ColumnsContainer<Line_10._DataFrameType>.title: DataColumn<String> defined in Line_10\n",
      "public final val DataRow<Line_10._DataFrameType>.title: String defined in Line_10\n",
      "Line_105.jupyter-kts (7:34 - 41) Unresolved reference. None of the following candidates is applicable because of receiver type mismatch: \n",
      "public final val ColumnsContainer<Line_50._DataFrameType1>.country: DataColumn<String?> defined in Line_50\n",
      "public final val DataRow<Line_50._DataFrameType1>.country: String? defined in Line_50\n",
      "Line_105.jupyter-kts (7:46 - 56) Unresolved reference. None of the following candidates is applicable because of receiver type mismatch: \n",
      "public final val ColumnsContainer<Line_10._DataFrameType>.date_added: DataColumn<String?> defined in Line_10\n",
      "public final val DataRow<Line_10._DataFrameType>.date_added: String? defined in Line_10\n",
      "Line_105.jupyter-kts (7:61 - 73) Unresolved reference. None of the following candidates is applicable because of receiver type mismatch: \n",
      "public final val ColumnsContainer<Line_10._DataFrameType>.release_year: DataColumn<Int> defined in Line_10\n",
      "public final val DataRow<Line_10._DataFrameType>.release_year: Int defined in Line_10\n",
      "Line_105.jupyter-kts (7:78 - 86) Unresolved reference. None of the following candidates is applicable because of receiver type mismatch: \n",
      "public final val ColumnsContainer<Line_10._DataFrameType>.duration: DataColumn<String> defined in Line_10\n",
      "public final val DataRow<Line_10._DataFrameType>.duration: String defined in Line_10"
     ]
    }
   ],
   "source": [
    "// Top 5 newest movies\n",
    "df_days\n",
    "    .filter { type == \"Movie\" }\n",
    "    .sortBy { days_on_platform }\n",
    "    .select { type and title and country and date_added and release_year and duration }\n",
    "    .head()"
   ]
  },
  {
   "cell_type": "markdown",
   "metadata": {},
   "source": [
    "* ***Top 5 TV Shows with most days on Netflix***"
   ]
  },
  {
   "cell_type": "code",
   "execution_count": 86,
   "metadata": {},
   "outputs": [
    {
     "name": "stderr",
     "output_type": "stream",
     "text": [
      "Line_106.jupyter-kts (4:1 - 8) Unresolved reference: df_days\n",
      "Line_106.jupyter-kts (5:15 - 19) Unresolved reference. None of the following candidates is applicable because of receiver type mismatch: \n",
      "public final val ColumnsContainer<Line_10._DataFrameType>.type: DataColumn<String> defined in Line_10\n",
      "public final val DataRow<Line_10._DataFrameType>.type: String defined in Line_10\n",
      "Line_106.jupyter-kts (6:19 - 35) Unresolved reference: days_on_platform\n",
      "Line_106.jupyter-kts (7:15 - 19) Unresolved reference. None of the following candidates is applicable because of receiver type mismatch: \n",
      "public final val ColumnsContainer<Line_10._DataFrameType>.type: DataColumn<String> defined in Line_10\n",
      "public final val DataRow<Line_10._DataFrameType>.type: String defined in Line_10\n",
      "Line_106.jupyter-kts (7:24 - 29) Unresolved reference. None of the following candidates is applicable because of receiver type mismatch: \n",
      "public final val ColumnsContainer<Line_10._DataFrameType>.title: DataColumn<String> defined in Line_10\n",
      "public final val DataRow<Line_10._DataFrameType>.title: String defined in Line_10\n",
      "Line_106.jupyter-kts (7:34 - 41) Unresolved reference. None of the following candidates is applicable because of receiver type mismatch: \n",
      "public final val ColumnsContainer<Line_50._DataFrameType1>.country: DataColumn<String?> defined in Line_50\n",
      "public final val DataRow<Line_50._DataFrameType1>.country: String? defined in Line_50\n",
      "Line_106.jupyter-kts (7:46 - 56) Unresolved reference. None of the following candidates is applicable because of receiver type mismatch: \n",
      "public final val ColumnsContainer<Line_10._DataFrameType>.date_added: DataColumn<String?> defined in Line_10\n",
      "public final val DataRow<Line_10._DataFrameType>.date_added: String? defined in Line_10\n",
      "Line_106.jupyter-kts (7:61 - 73) Unresolved reference. None of the following candidates is applicable because of receiver type mismatch: \n",
      "public final val ColumnsContainer<Line_10._DataFrameType>.release_year: DataColumn<Int> defined in Line_10\n",
      "public final val DataRow<Line_10._DataFrameType>.release_year: Int defined in Line_10\n",
      "Line_106.jupyter-kts (7:78 - 86) Unresolved reference. None of the following candidates is applicable because of receiver type mismatch: \n",
      "public final val ColumnsContainer<Line_10._DataFrameType>.duration: DataColumn<String> defined in Line_10\n",
      "public final val DataRow<Line_10._DataFrameType>.duration: String defined in Line_10"
     ]
    }
   ],
   "source": [
    "// Top 5 oldest shows\n",
    "df_days\n",
    "    .filter { type == \"TV Show\" }\n",
    "    .sortByDesc { days_on_platform }\n",
    "    .select { type and title and country and date_added and release_year and duration }\n",
    "    .head()"
   ]
  },
  {
   "cell_type": "markdown",
   "metadata": {},
   "source": [
    "* ***Top 5 TV Shows recently added on Netflix***"
   ]
  },
  {
   "cell_type": "code",
   "execution_count": 87,
   "metadata": {},
   "outputs": [
    {
     "name": "stderr",
     "output_type": "stream",
     "text": [
      "Line_107.jupyter-kts (4:1 - 8) Unresolved reference: df_days\n",
      "Line_107.jupyter-kts (5:15 - 19) Unresolved reference. None of the following candidates is applicable because of receiver type mismatch: \n",
      "public final val ColumnsContainer<Line_10._DataFrameType>.type: DataColumn<String> defined in Line_10\n",
      "public final val DataRow<Line_10._DataFrameType>.type: String defined in Line_10\n",
      "Line_107.jupyter-kts (6:15 - 31) Unresolved reference: days_on_platform\n",
      "Line_107.jupyter-kts (7:15 - 19) Unresolved reference. None of the following candidates is applicable because of receiver type mismatch: \n",
      "public final val ColumnsContainer<Line_10._DataFrameType>.type: DataColumn<String> defined in Line_10\n",
      "public final val DataRow<Line_10._DataFrameType>.type: String defined in Line_10\n",
      "Line_107.jupyter-kts (7:24 - 29) Unresolved reference. None of the following candidates is applicable because of receiver type mismatch: \n",
      "public final val ColumnsContainer<Line_10._DataFrameType>.title: DataColumn<String> defined in Line_10\n",
      "public final val DataRow<Line_10._DataFrameType>.title: String defined in Line_10\n",
      "Line_107.jupyter-kts (7:34 - 41) Unresolved reference. None of the following candidates is applicable because of receiver type mismatch: \n",
      "public final val ColumnsContainer<Line_50._DataFrameType1>.country: DataColumn<String?> defined in Line_50\n",
      "public final val DataRow<Line_50._DataFrameType1>.country: String? defined in Line_50\n",
      "Line_107.jupyter-kts (7:46 - 56) Unresolved reference. None of the following candidates is applicable because of receiver type mismatch: \n",
      "public final val ColumnsContainer<Line_10._DataFrameType>.date_added: DataColumn<String?> defined in Line_10\n",
      "public final val DataRow<Line_10._DataFrameType>.date_added: String? defined in Line_10\n",
      "Line_107.jupyter-kts (7:61 - 73) Unresolved reference. None of the following candidates is applicable because of receiver type mismatch: \n",
      "public final val ColumnsContainer<Line_10._DataFrameType>.release_year: DataColumn<Int> defined in Line_10\n",
      "public final val DataRow<Line_10._DataFrameType>.release_year: Int defined in Line_10\n",
      "Line_107.jupyter-kts (7:78 - 86) Unresolved reference. None of the following candidates is applicable because of receiver type mismatch: \n",
      "public final val ColumnsContainer<Line_10._DataFrameType>.duration: DataColumn<String> defined in Line_10\n",
      "public final val DataRow<Line_10._DataFrameType>.duration: String defined in Line_10"
     ]
    }
   ],
   "source": [
    "// Top 5 newest shows\n",
    "df_days\n",
    "    .filter { type == \"TV Show\" }\n",
    "    .sortBy { days_on_platform }\n",
    "    .select { type and title and country and date_added and release_year and duration }\n",
    "    .head()"
   ]
  },
  {
   "cell_type": "markdown",
   "metadata": {},
   "source": [
    "You might be interested in what months are titles added most often?"
   ]
  },
  {
   "cell_type": "code",
   "execution_count": 88,
   "metadata": {},
   "outputs": [
    {
     "name": "stderr",
     "output_type": "stream",
     "text": [
      "Line_108.jupyter-kts (5:62 - 71) Unresolved reference: dayOfWeek\n",
      "Line_108.jupyter-kts (5:76 - 81) Unresolved reference: month\n",
      "Line_108.jupyter-kts (5:86 - 90) Unresolved reference: year"
     ]
    }
   ],
   "source": [
    "val df_split_date = df\n",
    "                    // splitting dates into four columns\n",
    "                    .split { date_added }.by { listOf(it, it.dayOfWeek, it.month, it.year) }\n",
    "                    .into(\"date\", \"day\", \"month\", \"year\")\n",
    "                    .sortBy(\"month\") // sorting by month"
   ]
  },
  {
   "cell_type": "code",
   "execution_count": 89,
   "metadata": {},
   "outputs": [
    {
     "name": "stderr",
     "output_type": "stream",
     "text": [
      "Line_109.jupyter-kts (4:5 - 18) Unresolved reference: df_split_date\n",
      "Line_109.jupyter-kts (5:20 - 24) Unresolved reference: year\n",
      "Line_109.jupyter-kts (5:29 - 34) Unresolved reference: month\n",
      "Line_109.jupyter-kts (6:20 - 25) Unresolved reference: month"
     ]
    }
   ],
   "source": [
    "ggplot(\n",
    "    df_split_date\n",
    "        .groupBy { year and month }.count() // counting how many titles were added by year and month\n",
    "        .convert { month }.toStr() // converting month to String for rendering\n",
    "        .toMap()\n",
    "    ) + \n",
    "    geomTile(height = 0.9, width = 0.9) { x = \"year\"; y=\"month\"; fill=\"count\" } +\n",
    "    theme(panelBackground = elementBlank(),panelGrid = elementBlank()) +\n",
    "    scaleFillGradient(low = \"#FFF3E0\", high = \"#E65100\") +\n",
    "    ggtitle(\"Content additions by month and year\") +\n",
    "    ggsize(900, 700)"
   ]
  },
  {
   "cell_type": "markdown",
   "metadata": {},
   "source": [
    "## Actors"
   ]
  },
  {
   "cell_type": "markdown",
   "metadata": {},
   "source": [
    "In this section, let's take a look at the actors and directors who make the content. First, let's determine the average number of actors in titles."
   ]
  },
  {
   "cell_type": "code",
   "execution_count": 90,
   "metadata": {},
   "outputs": [
    {
     "name": "stderr",
     "output_type": "stream",
     "text": [
      "\n",
      "java.lang.NullPointerException\n",
      "org.jetbrains.kotlinx.jupyter.ReplEvalRuntimeException: \r\n",
      "\tat org.jetbrains.kotlinx.jupyter.repl.impl.InternalEvaluatorImpl.eval(InternalEvaluatorImpl.kt:106)\r\n",
      "\tat org.jetbrains.kotlinx.jupyter.repl.impl.CellExecutorImpl$execute$1$result$1.invoke(CellExecutorImpl.kt:64)\r\n",
      "\tat org.jetbrains.kotlinx.jupyter.repl.impl.CellExecutorImpl$execute$1$result$1.invoke(CellExecutorImpl.kt:63)\r\n",
      "\tat org.jetbrains.kotlinx.jupyter.ReplForJupyterImpl.withHost(repl.kt:598)\r\n",
      "\tat org.jetbrains.kotlinx.jupyter.repl.impl.CellExecutorImpl.execute(CellExecutorImpl.kt:63)\r\n",
      "\tat org.jetbrains.kotlinx.jupyter.repl.CellExecutor$DefaultImpls.execute$default(CellExecutor.kt:13)\r\n",
      "\tat org.jetbrains.kotlinx.jupyter.ReplForJupyterImpl$evalEx$1.invoke(repl.kt:421)\r\n",
      "\tat org.jetbrains.kotlinx.jupyter.ReplForJupyterImpl$evalEx$1.invoke(repl.kt:410)\r\n",
      "\tat org.jetbrains.kotlinx.jupyter.ReplForJupyterImpl.withEvalContext(repl.kt:374)\r\n",
      "\tat org.jetbrains.kotlinx.jupyter.ReplForJupyterImpl.evalEx(repl.kt:410)\r\n",
      "\tat org.jetbrains.kotlinx.jupyter.ReplForJupyterImpl.eval(repl.kt:458)\r\n",
      "\tat org.jetbrains.kotlinx.jupyter.ProtocolKt$shellMessagesHandler$res$1.invoke(protocol.kt:290)\r\n",
      "\tat org.jetbrains.kotlinx.jupyter.ProtocolKt$shellMessagesHandler$res$1.invoke(protocol.kt:289)\r\n",
      "\tat org.jetbrains.kotlinx.jupyter.JupyterConnection$runExecution$execThread$1.invoke(connection.kt:166)\r\n",
      "\tat org.jetbrains.kotlinx.jupyter.JupyterConnection$runExecution$execThread$1.invoke(connection.kt:164)\r\n",
      "\tat kotlin.concurrent.ThreadsKt$thread$thread$1.run(Thread.kt:30)\r\n",
      "Caused by: java.lang.NullPointerException\r\n",
      "\tat Line_110.<init>(Line_110.jupyter-kts:4)\r\n",
      "\tat java.base/jdk.internal.reflect.NativeConstructorAccessorImpl.newInstance0(Native Method)\r\n",
      "\tat java.base/jdk.internal.reflect.NativeConstructorAccessorImpl.newInstance(NativeConstructorAccessorImpl.java:62)\r\n",
      "\tat java.base/jdk.internal.reflect.DelegatingConstructorAccessorImpl.newInstance(DelegatingConstructorAccessorImpl.java:45)\r\n",
      "\tat java.base/java.lang.reflect.Constructor.newInstance(Constructor.java:490)\r\n",
      "\tat kotlin.script.experimental.jvm.BasicJvmScriptEvaluator.evalWithConfigAndOtherScriptsResults(BasicJvmScriptEvaluator.kt:98)\r\n",
      "\tat kotlin.script.experimental.jvm.BasicJvmScriptEvaluator.invoke$suspendImpl(BasicJvmScriptEvaluator.kt:43)\r\n",
      "\tat kotlin.script.experimental.jvm.BasicJvmScriptEvaluator.invoke(BasicJvmScriptEvaluator.kt)\r\n",
      "\tat kotlin.script.experimental.jvm.BasicJvmReplEvaluator.eval(BasicJvmReplEvaluator.kt:51)\r\n",
      "\tat org.jetbrains.kotlinx.jupyter.repl.impl.InternalEvaluatorImpl$eval$resultWithDiagnostics$1.invokeSuspend(InternalEvaluatorImpl.kt:99)\r\n",
      "\tat kotlin.coroutines.jvm.internal.BaseContinuationImpl.resumeWith(ContinuationImpl.kt:33)\r\n",
      "\tat kotlinx.coroutines.DispatchedTask.run(DispatchedTask.kt:106)\r\n",
      "\tat kotlinx.coroutines.EventLoopImplBase.processNextEvent(EventLoop.common.kt:274)\r\n",
      "\tat kotlinx.coroutines.BlockingCoroutine.joinBlocking(Builders.kt:85)\r\n",
      "\tat kotlinx.coroutines.BuildersKt__BuildersKt.runBlocking(Builders.kt:59)\r\n",
      "\tat kotlinx.coroutines.BuildersKt.runBlocking(Unknown Source)\r\n",
      "\tat kotlinx.coroutines.BuildersKt__BuildersKt.runBlocking$default(Builders.kt:38)\r\n",
      "\tat kotlinx.coroutines.BuildersKt.runBlocking$default(Unknown Source)\r\n",
      "\tat org.jetbrains.kotlinx.jupyter.repl.impl.InternalEvaluatorImpl.eval(InternalEvaluatorImpl.kt:99)\r\n",
      "\t... 15 more\r\n",
      "\n"
     ]
    }
   ],
   "source": [
    "// splitting cast and couting number of actors\n",
    "val cast_df = df\n",
    "    .split { cast }.by(',').inplace()\n",
    "    .add(\"size_cast\") { \"cast\"<List<String>>().size }"
   ]
  },
  {
   "cell_type": "code",
   "execution_count": 91,
   "metadata": {},
   "outputs": [
    {
     "name": "stderr",
     "output_type": "stream",
     "text": [
      "\n",
      "java.lang.NullPointerException\n",
      "org.jetbrains.kotlinx.jupyter.ReplEvalRuntimeException: \r\n",
      "\tat org.jetbrains.kotlinx.jupyter.repl.impl.InternalEvaluatorImpl.eval(InternalEvaluatorImpl.kt:106)\r\n",
      "\tat org.jetbrains.kotlinx.jupyter.repl.impl.CellExecutorImpl$execute$1$result$1.invoke(CellExecutorImpl.kt:64)\r\n",
      "\tat org.jetbrains.kotlinx.jupyter.repl.impl.CellExecutorImpl$execute$1$result$1.invoke(CellExecutorImpl.kt:63)\r\n",
      "\tat org.jetbrains.kotlinx.jupyter.ReplForJupyterImpl.withHost(repl.kt:598)\r\n",
      "\tat org.jetbrains.kotlinx.jupyter.repl.impl.CellExecutorImpl.execute(CellExecutorImpl.kt:63)\r\n",
      "\tat org.jetbrains.kotlinx.jupyter.repl.CellExecutor$DefaultImpls.execute$default(CellExecutor.kt:13)\r\n",
      "\tat org.jetbrains.kotlinx.jupyter.ReplForJupyterImpl$evalEx$1.invoke(repl.kt:421)\r\n",
      "\tat org.jetbrains.kotlinx.jupyter.ReplForJupyterImpl$evalEx$1.invoke(repl.kt:410)\r\n",
      "\tat org.jetbrains.kotlinx.jupyter.ReplForJupyterImpl.withEvalContext(repl.kt:374)\r\n",
      "\tat org.jetbrains.kotlinx.jupyter.ReplForJupyterImpl.evalEx(repl.kt:410)\r\n",
      "\tat org.jetbrains.kotlinx.jupyter.ReplForJupyterImpl.eval(repl.kt:458)\r\n",
      "\tat org.jetbrains.kotlinx.jupyter.ProtocolKt$shellMessagesHandler$res$1.invoke(protocol.kt:290)\r\n",
      "\tat org.jetbrains.kotlinx.jupyter.ProtocolKt$shellMessagesHandler$res$1.invoke(protocol.kt:289)\r\n",
      "\tat org.jetbrains.kotlinx.jupyter.JupyterConnection$runExecution$execThread$1.invoke(connection.kt:166)\r\n",
      "\tat org.jetbrains.kotlinx.jupyter.JupyterConnection$runExecution$execThread$1.invoke(connection.kt:164)\r\n",
      "\tat kotlin.concurrent.ThreadsKt$thread$thread$1.run(Thread.kt:30)\r\n",
      "Caused by: java.lang.NullPointerException\r\n",
      "\tat Line_111.<init>(Line_111.jupyter-kts:3)\r\n",
      "\tat java.base/jdk.internal.reflect.NativeConstructorAccessorImpl.newInstance0(Native Method)\r\n",
      "\tat java.base/jdk.internal.reflect.NativeConstructorAccessorImpl.newInstance(NativeConstructorAccessorImpl.java:62)\r\n",
      "\tat java.base/jdk.internal.reflect.DelegatingConstructorAccessorImpl.newInstance(DelegatingConstructorAccessorImpl.java:45)\r\n",
      "\tat java.base/java.lang.reflect.Constructor.newInstance(Constructor.java:490)\r\n",
      "\tat kotlin.script.experimental.jvm.BasicJvmScriptEvaluator.evalWithConfigAndOtherScriptsResults(BasicJvmScriptEvaluator.kt:98)\r\n",
      "\tat kotlin.script.experimental.jvm.BasicJvmScriptEvaluator.invoke$suspendImpl(BasicJvmScriptEvaluator.kt:43)\r\n",
      "\tat kotlin.script.experimental.jvm.BasicJvmScriptEvaluator.invoke(BasicJvmScriptEvaluator.kt)\r\n",
      "\tat kotlin.script.experimental.jvm.BasicJvmReplEvaluator.eval(BasicJvmReplEvaluator.kt:51)\r\n",
      "\tat org.jetbrains.kotlinx.jupyter.repl.impl.InternalEvaluatorImpl$eval$resultWithDiagnostics$1.invokeSuspend(InternalEvaluatorImpl.kt:99)\r\n",
      "\tat kotlin.coroutines.jvm.internal.BaseContinuationImpl.resumeWith(ContinuationImpl.kt:33)\r\n",
      "\tat kotlinx.coroutines.DispatchedTask.run(DispatchedTask.kt:106)\r\n",
      "\tat kotlinx.coroutines.EventLoopImplBase.processNextEvent(EventLoop.common.kt:274)\r\n",
      "\tat kotlinx.coroutines.BlockingCoroutine.joinBlocking(Builders.kt:85)\r\n",
      "\tat kotlinx.coroutines.BuildersKt__BuildersKt.runBlocking(Builders.kt:59)\r\n",
      "\tat kotlinx.coroutines.BuildersKt.runBlocking(Unknown Source)\r\n",
      "\tat kotlinx.coroutines.BuildersKt__BuildersKt.runBlocking$default(Builders.kt:38)\r\n",
      "\tat kotlinx.coroutines.BuildersKt.runBlocking$default(Unknown Source)\r\n",
      "\tat org.jetbrains.kotlinx.jupyter.repl.impl.InternalEvaluatorImpl.eval(InternalEvaluatorImpl.kt:99)\r\n",
      "\t... 15 more\r\n",
      "\n"
     ]
    }
   ],
   "source": [
    "ggplot(cast_df.toMap()) +\n",
    "    geomHistogram(bins = 50, showLegend = false) { x = \"size_cast\"; fill=\"..count..\" } +\n",
    "    scaleFillGradient(low = \"#E0F7FA\", high = \"#006064\") +\n",
    "    xlab(\"actors\") +\n",
    "    ggtitle(\"Number of people on cast\") +\n",
    "    ggsize(950, 650)"
   ]
  },
  {
   "cell_type": "markdown",
   "metadata": {},
   "source": [
    "It can be seen that usually 8-9 people are included in the cast.\n",
    "\n",
    "But what about who exactly is involved in creating the content? Let's take a look at these actors and how many times they took part in movies and shows."
   ]
  },
  {
   "cell_type": "code",
   "execution_count": 92,
   "metadata": {},
   "outputs": [
    {
     "name": "stderr",
     "output_type": "stream",
     "text": [
      "Line_112.jupyter-kts (4:30 - 37) Unresolved reference. None of the following candidates is applicable because of receiver type mismatch: \n",
      "public fun <T> DataColumn<Collection<TypeVariable(T)>>.explode(): DataColumn<TypeVariable(T)> defined in org.jetbrains.kotlinx.dataframe.api\n",
      "public fun <T> DataColumn<DataFrame<TypeVariable(T)>>.explode(): ColumnGroup<TypeVariable(T)> defined in org.jetbrains.kotlinx.dataframe.api\n",
      "public fun <T> DataFrame<TypeVariable(T)>.explode(vararg columns: String, dropEmpty: Boolean = ...): DataFrame<TypeVariable(T)> defined in org.jetbrains.kotlinx.dataframe.api\n",
      "public fun <T, C> DataFrame<TypeVariable(T)>.explode(vararg columns: KProperty<TypeVariable(C)>, dropEmpty: Boolean = ...): DataFrame<TypeVariable(T)> defined in org.jetbrains.kotlinx.dataframe.api\n",
      "public fun <T, C> DataFrame<TypeVariable(T)>.explode(vararg columns: ColumnReference<TypeVariable(C)>, dropEmpty: Boolean = ...): DataFrame<TypeVariable(T)> defined in org.jetbrains.kotlinx.dataframe.api\n",
      "public fun <T> DataFrame<TypeVariable(T)>.explode(dropEmpty: Boolean = ..., selector: ColumnsSelector<TypeVariable(T), *> /* = ColumnsSelectionDsl<TypeVariable(T)>.(ColumnsSelectionDsl<TypeVariable(T)>) -> ColumnSet<*> */ = ...): DataFrame<TypeVariable(T)> defined in org.jetbrains.kotlinx.dataframe.api\n",
      "public fun <T> DataRow<TypeVariable(T)>.explode(vararg columns: String, dropEmpty: Boolean = ...): DataFrame<TypeVariable(T)> defined in org.jetbrains.kotlinx.dataframe.api\n",
      "public fun <T, C> DataRow<TypeVariable(T)>.explode(vararg columns: KProperty<TypeVariable(C)>, dropEmpty: Boolean = ...): DataFrame<TypeVariable(T)> defined in org.jetbrains.kotlinx.dataframe.api\n",
      "public fun <T, C> DataRow<TypeVariable(T)>.explode(vararg columns: ColumnReference<TypeVariable(C)>, dropEmpty: Boolean = ...): DataFrame<TypeVariable(T)> defined in org.jetbrains.kotlinx.dataframe.api\n",
      "public fun <T> DataRow<TypeVariable(T)>.explode(dropEmpty: Boolean = ..., selector: ColumnsSelector<TypeVariable(T), *> /* = ColumnsSelectionDsl<TypeVariable(T)>.(ColumnsSelectionDsl<TypeVariable(T)>) -> ColumnSet<*> */ = ...): DataFrame<TypeVariable(T)> defined in org.jetbrains.kotlinx.dataframe.api"
     ]
    }
   ],
   "source": [
    "// counting the participation of each actor\n",
    "val actors_df = cast_df.cast.explode().valueCounts()\n",
    "actors_df"
   ]
  },
  {
   "cell_type": "code",
   "execution_count": 93,
   "metadata": {},
   "outputs": [
    {
     "name": "stderr",
     "output_type": "stream",
     "text": [
      "Line_113.jupyter-kts (3:8 - 17) Unresolved reference: actors_df"
     ]
    }
   ],
   "source": [
    "ggplot(actors_df.toMap()) +\n",
    "    geomHistogram(\n",
    "        stat = Stat.identity, sampling = samplingPick(30), color = \"#E8F5E9\", boundary = 1.0, showLegend = false\n",
    "    ) { x=\"cast\"; y=\"count\"; fill=\"cast\" } +\n",
    "    coordFlip() +\n",
    "    scaleFillHue() +\n",
    "    xlab(\"cast\") +\n",
    "    ggtitle(\"Top 30 actors\") +\n",
    "    ggsize(950, 900)"
   ]
  },
  {
   "cell_type": "markdown",
   "metadata": {},
   "source": [
    "Anupam Kher is definitely in the lead with 42 titles. Now we will split the castes for participation in movies or shows."
   ]
  },
  {
   "cell_type": "code",
   "execution_count": 94,
   "metadata": {},
   "outputs": [
    {
     "name": "stderr",
     "output_type": "stream",
     "text": [
      "Line_114.jupyter-kts (4:10 - 17) Unresolved reference. None of the following candidates is applicable because of receiver type mismatch: \n",
      "public fun <T> DataColumn<Collection<TypeVariable(T)>>.explode(): DataColumn<TypeVariable(T)> defined in org.jetbrains.kotlinx.dataframe.api\n",
      "public fun <T> DataColumn<DataFrame<TypeVariable(T)>>.explode(): ColumnGroup<TypeVariable(T)> defined in org.jetbrains.kotlinx.dataframe.api\n",
      "public fun <T> DataFrame<TypeVariable(T)>.explode(vararg columns: String, dropEmpty: Boolean = ...): DataFrame<TypeVariable(T)> defined in org.jetbrains.kotlinx.dataframe.api\n",
      "public fun <T, C> DataFrame<TypeVariable(T)>.explode(vararg columns: KProperty<TypeVariable(C)>, dropEmpty: Boolean = ...): DataFrame<TypeVariable(T)> defined in org.jetbrains.kotlinx.dataframe.api\n",
      "public fun <T, C> DataFrame<TypeVariable(T)>.explode(vararg columns: ColumnReference<TypeVariable(C)>, dropEmpty: Boolean = ...): DataFrame<TypeVariable(T)> defined in org.jetbrains.kotlinx.dataframe.api\n",
      "public fun <T> DataFrame<TypeVariable(T)>.explode(dropEmpty: Boolean = ..., selector: ColumnsSelector<TypeVariable(T), *> /* = ColumnsSelectionDsl<TypeVariable(T)>.(ColumnsSelectionDsl<TypeVariable(T)>) -> ColumnSet<*> */ = ...): DataFrame<TypeVariable(T)> defined in org.jetbrains.kotlinx.dataframe.api\n",
      "public fun <T> DataRow<TypeVariable(T)>.explode(vararg columns: String, dropEmpty: Boolean = ...): DataFrame<TypeVariable(T)> defined in org.jetbrains.kotlinx.dataframe.api\n",
      "public fun <T, C> DataRow<TypeVariable(T)>.explode(vararg columns: KProperty<TypeVariable(C)>, dropEmpty: Boolean = ...): DataFrame<TypeVariable(T)> defined in org.jetbrains.kotlinx.dataframe.api\n",
      "public fun <T, C> DataRow<TypeVariable(T)>.explode(vararg columns: ColumnReference<TypeVariable(C)>, dropEmpty: Boolean = ...): DataFrame<TypeVariable(T)> defined in org.jetbrains.kotlinx.dataframe.api\n",
      "public fun <T> DataRow<TypeVariable(T)>.explode(dropEmpty: Boolean = ..., selector: ColumnsSelector<TypeVariable(T), *> /* = ColumnsSelectionDsl<TypeVariable(T)>.(ColumnsSelectionDsl<TypeVariable(T)>) -> ColumnSet<*> */ = ...): DataFrame<TypeVariable(T)> defined in org.jetbrains.kotlinx.dataframe.api"
     ]
    }
   ],
   "source": [
    "val actors = cast_df.pivot { type }.aggregate {\n",
    "    cast.explode().valueCounts()\n",
    "}\n",
    "actors"
   ]
  },
  {
   "cell_type": "code",
   "execution_count": 95,
   "metadata": {},
   "outputs": [
    {
     "name": "stderr",
     "output_type": "stream",
     "text": [
      "Line_115.jupyter-kts (3:17 - 23) Unresolved reference: actors\n",
      "Line_115.jupyter-kts (12:17 - 23) Unresolved reference: actors"
     ]
    }
   ],
   "source": [
    "val p1 = ggplot(actors.`TV Show`.toMap()) +\n",
    "            geomHistogram(\n",
    "              stat = Stat.identity, sampling = samplingPick(30), color = \"#E8F5E9\", boundary = 1.0, showLegend = false\n",
    "            ) { x=\"cast\"; y=\"count\"; fill=\"cast\" } +\n",
    "             coordFlip() +\n",
    "            scaleFillGradient(low = \"#263238\", high = \"#ECEFF1\") +\n",
    "            xlab(\"cast\") +\n",
    "            ggtitle(\"Top 30 actors in Shows\")\n",
    "\n",
    "val p2 = ggplot(actors.Movie.toMap()) +\n",
    "            geomHistogram(\n",
    "              stat = Stat.identity, sampling = samplingPick(30), color = \"#E8F5E9\", boundary = 1.0, showLegend = false\n",
    "            ) { x=\"cast\"; y=\"count\"; fill=\"cast\" } +\n",
    "             coordFlip() +\n",
    "            scaleFillGradient(low = \"#006064\", high = \"#E0F7FA\") +\n",
    "            xlab(\"cast\") +\n",
    "            ggtitle(\"Top 30 actors in Movies\")\n",
    "\n",
    "GGBunch()\n",
    "    .addPlot(p1, 0, 0, 500, 700)\n",
    "    .addPlot(p2, 500, 0, 500, 700)"
   ]
  },
  {
   "cell_type": "markdown",
   "metadata": {},
   "source": [
    "How about directors? Let's see the top 10 directors with more appearence on Netflix catalog."
   ]
  },
  {
   "cell_type": "code",
   "execution_count": 96,
   "metadata": {},
   "outputs": [
    {
     "name": "stderr",
     "output_type": "stream",
     "text": [
      "\n",
      "java.lang.NullPointerException\n",
      "org.jetbrains.kotlinx.jupyter.ReplEvalRuntimeException: \r\n",
      "\tat org.jetbrains.kotlinx.jupyter.repl.impl.InternalEvaluatorImpl.eval(InternalEvaluatorImpl.kt:106)\r\n",
      "\tat org.jetbrains.kotlinx.jupyter.repl.impl.CellExecutorImpl$execute$1$result$1.invoke(CellExecutorImpl.kt:64)\r\n",
      "\tat org.jetbrains.kotlinx.jupyter.repl.impl.CellExecutorImpl$execute$1$result$1.invoke(CellExecutorImpl.kt:63)\r\n",
      "\tat org.jetbrains.kotlinx.jupyter.ReplForJupyterImpl.withHost(repl.kt:598)\r\n",
      "\tat org.jetbrains.kotlinx.jupyter.repl.impl.CellExecutorImpl.execute(CellExecutorImpl.kt:63)\r\n",
      "\tat org.jetbrains.kotlinx.jupyter.repl.CellExecutor$DefaultImpls.execute$default(CellExecutor.kt:13)\r\n",
      "\tat org.jetbrains.kotlinx.jupyter.ReplForJupyterImpl$evalEx$1.invoke(repl.kt:421)\r\n",
      "\tat org.jetbrains.kotlinx.jupyter.ReplForJupyterImpl$evalEx$1.invoke(repl.kt:410)\r\n",
      "\tat org.jetbrains.kotlinx.jupyter.ReplForJupyterImpl.withEvalContext(repl.kt:374)\r\n",
      "\tat org.jetbrains.kotlinx.jupyter.ReplForJupyterImpl.evalEx(repl.kt:410)\r\n",
      "\tat org.jetbrains.kotlinx.jupyter.ReplForJupyterImpl.eval(repl.kt:458)\r\n",
      "\tat org.jetbrains.kotlinx.jupyter.ProtocolKt$shellMessagesHandler$res$1.invoke(protocol.kt:290)\r\n",
      "\tat org.jetbrains.kotlinx.jupyter.ProtocolKt$shellMessagesHandler$res$1.invoke(protocol.kt:289)\r\n",
      "\tat org.jetbrains.kotlinx.jupyter.JupyterConnection$runExecution$execThread$1.invoke(connection.kt:166)\r\n",
      "\tat org.jetbrains.kotlinx.jupyter.JupyterConnection$runExecution$execThread$1.invoke(connection.kt:164)\r\n",
      "\tat kotlin.concurrent.ThreadsKt$thread$thread$1.run(Thread.kt:30)\r\n",
      "Caused by: java.lang.NullPointerException\r\n",
      "\tat Line_116.<init>(Line_116.jupyter-kts:3)\r\n",
      "\tat java.base/jdk.internal.reflect.NativeConstructorAccessorImpl.newInstance0(Native Method)\r\n",
      "\tat java.base/jdk.internal.reflect.NativeConstructorAccessorImpl.newInstance(NativeConstructorAccessorImpl.java:62)\r\n",
      "\tat java.base/jdk.internal.reflect.DelegatingConstructorAccessorImpl.newInstance(DelegatingConstructorAccessorImpl.java:45)\r\n",
      "\tat java.base/java.lang.reflect.Constructor.newInstance(Constructor.java:490)\r\n",
      "\tat kotlin.script.experimental.jvm.BasicJvmScriptEvaluator.evalWithConfigAndOtherScriptsResults(BasicJvmScriptEvaluator.kt:98)\r\n",
      "\tat kotlin.script.experimental.jvm.BasicJvmScriptEvaluator.invoke$suspendImpl(BasicJvmScriptEvaluator.kt:43)\r\n",
      "\tat kotlin.script.experimental.jvm.BasicJvmScriptEvaluator.invoke(BasicJvmScriptEvaluator.kt)\r\n",
      "\tat kotlin.script.experimental.jvm.BasicJvmReplEvaluator.eval(BasicJvmReplEvaluator.kt:51)\r\n",
      "\tat org.jetbrains.kotlinx.jupyter.repl.impl.InternalEvaluatorImpl$eval$resultWithDiagnostics$1.invokeSuspend(InternalEvaluatorImpl.kt:99)\r\n",
      "\tat kotlin.coroutines.jvm.internal.BaseContinuationImpl.resumeWith(ContinuationImpl.kt:33)\r\n",
      "\tat kotlinx.coroutines.DispatchedTask.run(DispatchedTask.kt:106)\r\n",
      "\tat kotlinx.coroutines.EventLoopImplBase.processNextEvent(EventLoop.common.kt:274)\r\n",
      "\tat kotlinx.coroutines.BlockingCoroutine.joinBlocking(Builders.kt:85)\r\n",
      "\tat kotlinx.coroutines.BuildersKt__BuildersKt.runBlocking(Builders.kt:59)\r\n",
      "\tat kotlinx.coroutines.BuildersKt.runBlocking(Unknown Source)\r\n",
      "\tat kotlinx.coroutines.BuildersKt__BuildersKt.runBlocking$default(Builders.kt:38)\r\n",
      "\tat kotlinx.coroutines.BuildersKt.runBlocking$default(Unknown Source)\r\n",
      "\tat org.jetbrains.kotlinx.jupyter.repl.impl.InternalEvaluatorImpl.eval(InternalEvaluatorImpl.kt:99)\r\n",
      "\t... 15 more\r\n",
      "\n"
     ]
    }
   ],
   "source": [
    "val directors_df = df.valueCounts { director }"
   ]
  },
  {
   "cell_type": "code",
   "execution_count": 97,
   "metadata": {},
   "outputs": [
    {
     "name": "stderr",
     "output_type": "stream",
     "text": [
      "\n",
      "java.lang.NullPointerException\n",
      "org.jetbrains.kotlinx.jupyter.ReplEvalRuntimeException: \r\n",
      "\tat org.jetbrains.kotlinx.jupyter.repl.impl.InternalEvaluatorImpl.eval(InternalEvaluatorImpl.kt:106)\r\n",
      "\tat org.jetbrains.kotlinx.jupyter.repl.impl.CellExecutorImpl$execute$1$result$1.invoke(CellExecutorImpl.kt:64)\r\n",
      "\tat org.jetbrains.kotlinx.jupyter.repl.impl.CellExecutorImpl$execute$1$result$1.invoke(CellExecutorImpl.kt:63)\r\n",
      "\tat org.jetbrains.kotlinx.jupyter.ReplForJupyterImpl.withHost(repl.kt:598)\r\n",
      "\tat org.jetbrains.kotlinx.jupyter.repl.impl.CellExecutorImpl.execute(CellExecutorImpl.kt:63)\r\n",
      "\tat org.jetbrains.kotlinx.jupyter.repl.CellExecutor$DefaultImpls.execute$default(CellExecutor.kt:13)\r\n",
      "\tat org.jetbrains.kotlinx.jupyter.ReplForJupyterImpl$evalEx$1.invoke(repl.kt:421)\r\n",
      "\tat org.jetbrains.kotlinx.jupyter.ReplForJupyterImpl$evalEx$1.invoke(repl.kt:410)\r\n",
      "\tat org.jetbrains.kotlinx.jupyter.ReplForJupyterImpl.withEvalContext(repl.kt:374)\r\n",
      "\tat org.jetbrains.kotlinx.jupyter.ReplForJupyterImpl.evalEx(repl.kt:410)\r\n",
      "\tat org.jetbrains.kotlinx.jupyter.ReplForJupyterImpl.eval(repl.kt:458)\r\n",
      "\tat org.jetbrains.kotlinx.jupyter.ProtocolKt$shellMessagesHandler$res$1.invoke(protocol.kt:290)\r\n",
      "\tat org.jetbrains.kotlinx.jupyter.ProtocolKt$shellMessagesHandler$res$1.invoke(protocol.kt:289)\r\n",
      "\tat org.jetbrains.kotlinx.jupyter.JupyterConnection$runExecution$execThread$1.invoke(connection.kt:166)\r\n",
      "\tat org.jetbrains.kotlinx.jupyter.JupyterConnection$runExecution$execThread$1.invoke(connection.kt:164)\r\n",
      "\tat kotlin.concurrent.ThreadsKt$thread$thread$1.run(Thread.kt:30)\r\n",
      "Caused by: java.lang.NullPointerException\r\n",
      "\tat Line_117.<init>(Line_117.jupyter-kts:3)\r\n",
      "\tat java.base/jdk.internal.reflect.NativeConstructorAccessorImpl.newInstance0(Native Method)\r\n",
      "\tat java.base/jdk.internal.reflect.NativeConstructorAccessorImpl.newInstance(NativeConstructorAccessorImpl.java:62)\r\n",
      "\tat java.base/jdk.internal.reflect.DelegatingConstructorAccessorImpl.newInstance(DelegatingConstructorAccessorImpl.java:45)\r\n",
      "\tat java.base/java.lang.reflect.Constructor.newInstance(Constructor.java:490)\r\n",
      "\tat kotlin.script.experimental.jvm.BasicJvmScriptEvaluator.evalWithConfigAndOtherScriptsResults(BasicJvmScriptEvaluator.kt:98)\r\n",
      "\tat kotlin.script.experimental.jvm.BasicJvmScriptEvaluator.invoke$suspendImpl(BasicJvmScriptEvaluator.kt:43)\r\n",
      "\tat kotlin.script.experimental.jvm.BasicJvmScriptEvaluator.invoke(BasicJvmScriptEvaluator.kt)\r\n",
      "\tat kotlin.script.experimental.jvm.BasicJvmReplEvaluator.eval(BasicJvmReplEvaluator.kt:51)\r\n",
      "\tat org.jetbrains.kotlinx.jupyter.repl.impl.InternalEvaluatorImpl$eval$resultWithDiagnostics$1.invokeSuspend(InternalEvaluatorImpl.kt:99)\r\n",
      "\tat kotlin.coroutines.jvm.internal.BaseContinuationImpl.resumeWith(ContinuationImpl.kt:33)\r\n",
      "\tat kotlinx.coroutines.DispatchedTask.run(DispatchedTask.kt:106)\r\n",
      "\tat kotlinx.coroutines.EventLoopImplBase.processNextEvent(EventLoop.common.kt:274)\r\n",
      "\tat kotlinx.coroutines.BlockingCoroutine.joinBlocking(Builders.kt:85)\r\n",
      "\tat kotlinx.coroutines.BuildersKt__BuildersKt.runBlocking(Builders.kt:59)\r\n",
      "\tat kotlinx.coroutines.BuildersKt.runBlocking(Unknown Source)\r\n",
      "\tat kotlinx.coroutines.BuildersKt__BuildersKt.runBlocking$default(Builders.kt:38)\r\n",
      "\tat kotlinx.coroutines.BuildersKt.runBlocking$default(Unknown Source)\r\n",
      "\tat org.jetbrains.kotlinx.jupyter.repl.impl.InternalEvaluatorImpl.eval(InternalEvaluatorImpl.kt:99)\r\n",
      "\t... 15 more\r\n",
      "\n"
     ]
    }
   ],
   "source": [
    "ggplot(directors_df.toMap()) +\n",
    "    geomHistogram(\n",
    "            stat = Stat.identity, sampling = samplingPick(10), color = \"#E8F5E9\", boundary = 1.0, showLegend = false\n",
    "        ) { x = \"director\"; y = \"count\"; fill = \"director\"} +\n",
    "        scaleFillHue() +\n",
    "        coordFlip() +\n",
    "        xlab(\"Name\") +\n",
    "        ggtitle(\"Top 10 directors\") +\n",
    "        ggsize(850, 500)"
   ]
  },
  {
   "cell_type": "markdown",
   "metadata": {},
   "source": [
    "These people work very productively."
   ]
  },
  {
   "cell_type": "markdown",
   "metadata": {},
   "source": [
    "## Countries"
   ]
  },
  {
   "cell_type": "markdown",
   "metadata": {},
   "source": [
    "Here we will examine the distribution of content by country.\n",
    "\n",
    "We need to do some small manipulations to render map."
   ]
  },
  {
   "cell_type": "code",
   "execution_count": 98,
   "metadata": {},
   "outputs": [],
   "source": [
    "val factory = ShapefileDataStoreFactory()"
   ]
  },
  {
   "cell_type": "code",
   "execution_count": 99,
   "metadata": {},
   "outputs": [
    {
     "name": "stderr",
     "output_type": "stream",
     "text": [
      "Line_119.jupyter-kts (10:27 - 43) Cannot access class 'jetbrains.letsPlot.spatial.SpatialDataset'. Check your module classpath for missing or conflicting dependencies\n",
      "Line_119.jupyter-kts (11:25 - 38) 'axisLineBlank(): theme' is deprecated. Use: theme(axisLine=\"blank\"\n",
      "Line_119.jupyter-kts (11:41 - 54) 'axisTextBlank(): theme' is deprecated. Use: theme(axisText=\"blank\"\n",
      "Line_119.jupyter-kts (11:57 - 71) 'axisTicksBlank(): theme' is deprecated. Use: theme(axisTicks=\"blank\"\n",
      "Line_119.jupyter-kts (11:74 - 88) 'axisTitleBlank(): theme' is deprecated. Use: theme(axisTitle=\"blank\""
     ]
    }
   ],
   "source": [
    "val worldFeatures : SimpleFeatureCollection = with(\"naturalearth_lowres\") {\n",
    "    val url = \"https://raw.githubusercontent.com/JetBrains/lets-plot-kotlin/master/docs/examples/shp/${this}/${this}.shp\"\n",
    "    factory.createDataStore(URL(url)).featureSource.features\n",
    "}\n",
    "\n",
    "// Convert Feature Collection to SpatialDataset.\n",
    "// Use 10 decimals to encode floating point numbers (this is the default).\n",
    "val world = worldFeatures.toSpatialDataset(10)\n",
    "val voidTheme = theme().axisLineBlank().axisTextBlank().axisTicksBlank().axisTitleBlank()\n",
    "val worldLimits = coordMap(ylim = -55 to 85)"
   ]
  },
  {
   "cell_type": "markdown",
   "metadata": {},
   "source": [
    "Let's add another dataframe with country labels."
   ]
  },
  {
   "cell_type": "code",
   "execution_count": 100,
   "metadata": {},
   "outputs": [
    {
     "data": {
      "text/html": "        <html>\n        <head>\n            <style type=\"text/css\">\n                \n\n            </style>\n        </head>\n        <body>\n            <table class=\"dataframe\" id=\"df_1275068421\"></table>\n\n<p>DataFrame [5 x 5]</p>\n        </body>\n        <script>\n            /*<!--*/\ncall_DataFrame(function() { DataFrame.addTable({ cols: [{ name: \"<span title=\\\"country: String?\\\">country</span>\", children: [], rightAlign: false, values: [\"United States\",\"India\",\"United Kingdom\",\"<span class=\\\"formatted\\\" title=\\\"\\\"><span class=\\\"null\\\">null</span></span>\",\"Canada\"] }, \n{ name: \"<span title=\\\"code: String\\\">code</span>\", children: [], rightAlign: false, values: [\"US\",\"IN\",\"GB\",\"Unknown\",\"CA\"] }, \n{ name: \"<span title=\\\"iso: String\\\">iso</span>\", children: [], rightAlign: false, values: [\"USA\",\"IND\",\"GBR\",\"Unknown\",\"CAN\"] }, \n{ name: \"<span title=\\\"lat: Double\\\">lat</span>\", children: [], rightAlign: true, values: [\"<span class=\\\"formatted\\\" title=\\\"\\\"><span class=\\\"numbers\\\">39.783730</span></span>\",\"<span class=\\\"formatted\\\" title=\\\"\\\"><span class=\\\"numbers\\\">22.351115</span></span>\",\"<span class=\\\"formatted\\\" title=\\\"\\\"><span class=\\\"numbers\\\">54.702355</span></span>\",\"<span class=\\\"formatted\\\" title=\\\"\\\"><span class=\\\"numbers\\\">51.146139</span></span>\",\"<span class=\\\"formatted\\\" title=\\\"\\\"><span class=\\\"numbers\\\">61.066692</span></span>\"] }, \n{ name: \"<span title=\\\"lon: Double\\\">lon</span>\", children: [], rightAlign: true, values: [\"<span class=\\\"formatted\\\" title=\\\"\\\"><span class=\\\"numbers\\\">-100.445883</span></span>\",\"<span class=\\\"formatted\\\" title=\\\"\\\"><span class=\\\"numbers\\\">78.667743</span></span>\",\"<span class=\\\"formatted\\\" title=\\\"\\\"><span class=\\\"numbers\\\">-3.276575</span></span>\",\"<span class=\\\"formatted\\\" title=\\\"\\\"><span class=\\\"numbers\\\">12.233285</span></span>\",\"<span class=\\\"formatted\\\" title=\\\"\\\"><span class=\\\"numbers\\\">-107.991707</span></span>\"] }, \n], id: 1275068421, rootId: 1275068421 } ) });\n/*-->*/\n\ncall_DataFrame(function() { DataFrame.renderTable(1275068421) });\n\n\n        </script>\n        </html>"
     },
     "execution_count": 100,
     "metadata": {},
     "output_type": "execute_result"
    }
   ],
   "source": [
    "val countries = DataFrame.readCSV(\"country_codes.csv\")\n",
    "countries.head()"
   ]
  },
  {
   "cell_type": "code",
   "execution_count": 101,
   "metadata": {},
   "outputs": [
    {
     "name": "stderr",
     "output_type": "stream",
     "text": [
      "\n",
      "java.lang.NullPointerException\n",
      "org.jetbrains.kotlinx.jupyter.ReplEvalRuntimeException: \r\n",
      "\tat org.jetbrains.kotlinx.jupyter.repl.impl.InternalEvaluatorImpl.eval(InternalEvaluatorImpl.kt:106)\r\n",
      "\tat org.jetbrains.kotlinx.jupyter.repl.impl.CellExecutorImpl$execute$1$result$1.invoke(CellExecutorImpl.kt:64)\r\n",
      "\tat org.jetbrains.kotlinx.jupyter.repl.impl.CellExecutorImpl$execute$1$result$1.invoke(CellExecutorImpl.kt:63)\r\n",
      "\tat org.jetbrains.kotlinx.jupyter.ReplForJupyterImpl.withHost(repl.kt:598)\r\n",
      "\tat org.jetbrains.kotlinx.jupyter.repl.impl.CellExecutorImpl.execute(CellExecutorImpl.kt:63)\r\n",
      "\tat org.jetbrains.kotlinx.jupyter.repl.CellExecutor$DefaultImpls.execute$default(CellExecutor.kt:13)\r\n",
      "\tat org.jetbrains.kotlinx.jupyter.ReplForJupyterImpl$evalEx$1.invoke(repl.kt:421)\r\n",
      "\tat org.jetbrains.kotlinx.jupyter.ReplForJupyterImpl$evalEx$1.invoke(repl.kt:410)\r\n",
      "\tat org.jetbrains.kotlinx.jupyter.ReplForJupyterImpl.withEvalContext(repl.kt:374)\r\n",
      "\tat org.jetbrains.kotlinx.jupyter.ReplForJupyterImpl.evalEx(repl.kt:410)\r\n",
      "\tat org.jetbrains.kotlinx.jupyter.ReplForJupyterImpl.eval(repl.kt:458)\r\n",
      "\tat org.jetbrains.kotlinx.jupyter.ProtocolKt$shellMessagesHandler$res$1.invoke(protocol.kt:290)\r\n",
      "\tat org.jetbrains.kotlinx.jupyter.ProtocolKt$shellMessagesHandler$res$1.invoke(protocol.kt:289)\r\n",
      "\tat org.jetbrains.kotlinx.jupyter.JupyterConnection$runExecution$execThread$1.invoke(connection.kt:166)\r\n",
      "\tat org.jetbrains.kotlinx.jupyter.JupyterConnection$runExecution$execThread$1.invoke(connection.kt:164)\r\n",
      "\tat kotlin.concurrent.ThreadsKt$thread$thread$1.run(Thread.kt:30)\r\n",
      "Caused by: java.lang.NullPointerException\r\n",
      "\tat Line_123.<init>(Line_123.jupyter-kts:4)\r\n",
      "\tat java.base/jdk.internal.reflect.NativeConstructorAccessorImpl.newInstance0(Native Method)\r\n",
      "\tat java.base/jdk.internal.reflect.NativeConstructorAccessorImpl.newInstance(NativeConstructorAccessorImpl.java:62)\r\n",
      "\tat java.base/jdk.internal.reflect.DelegatingConstructorAccessorImpl.newInstance(DelegatingConstructorAccessorImpl.java:45)\r\n",
      "\tat java.base/java.lang.reflect.Constructor.newInstance(Constructor.java:490)\r\n",
      "\tat kotlin.script.experimental.jvm.BasicJvmScriptEvaluator.evalWithConfigAndOtherScriptsResults(BasicJvmScriptEvaluator.kt:98)\r\n",
      "\tat kotlin.script.experimental.jvm.BasicJvmScriptEvaluator.invoke$suspendImpl(BasicJvmScriptEvaluator.kt:43)\r\n",
      "\tat kotlin.script.experimental.jvm.BasicJvmScriptEvaluator.invoke(BasicJvmScriptEvaluator.kt)\r\n",
      "\tat kotlin.script.experimental.jvm.BasicJvmReplEvaluator.eval(BasicJvmReplEvaluator.kt:51)\r\n",
      "\tat org.jetbrains.kotlinx.jupyter.repl.impl.InternalEvaluatorImpl$eval$resultWithDiagnostics$1.invokeSuspend(InternalEvaluatorImpl.kt:99)\r\n",
      "\tat kotlin.coroutines.jvm.internal.BaseContinuationImpl.resumeWith(ContinuationImpl.kt:33)\r\n",
      "\tat kotlinx.coroutines.DispatchedTask.run(DispatchedTask.kt:106)\r\n",
      "\tat kotlinx.coroutines.EventLoopImplBase.processNextEvent(EventLoop.common.kt:274)\r\n",
      "\tat kotlinx.coroutines.BlockingCoroutine.joinBlocking(Builders.kt:85)\r\n",
      "\tat kotlinx.coroutines.BuildersKt__BuildersKt.runBlocking(Builders.kt:59)\r\n",
      "\tat kotlinx.coroutines.BuildersKt.runBlocking(Unknown Source)\r\n",
      "\tat kotlinx.coroutines.BuildersKt__BuildersKt.runBlocking$default(Builders.kt:38)\r\n",
      "\tat kotlinx.coroutines.BuildersKt.runBlocking$default(Unknown Source)\r\n",
      "\tat org.jetbrains.kotlinx.jupyter.repl.impl.InternalEvaluatorImpl.eval(InternalEvaluatorImpl.kt:99)\r\n",
      "\t... 15 more\r\n",
      "\n"
     ]
    }
   ],
   "source": [
    "// counting number of titles by county and joining them with country codes dataframe\n",
    "val df_country = df.valueCounts { country }.join(countries)\n",
    "df_country"
   ]
  },
  {
   "cell_type": "code",
   "execution_count": 102,
   "metadata": {},
   "outputs": [
    {
     "name": "stderr",
     "output_type": "stream",
     "text": [
      "Line_124.jupyter-kts (4:5 - 12) Cannot access class 'jetbrains.letsPlot.spatial.SpatialDataset'. Check your module classpath for missing or conflicting dependencies\n",
      "Line_124.jupyter-kts (4:46 - 51) Unresolved reference: world\n",
      "Line_124.jupyter-kts (6:25 - 34) Unresolved reference: voidTheme\n",
      "Line_124.jupyter-kts (6:37 - 48) Unresolved reference: worldLimits"
     ]
    }
   ],
   "source": [
    "ggplot() +\n",
    "    geomMap(data = df_country.toMap(), map = world, mapJoin = \"iso\" to \"iso_a3\", color = \"white\") { fill=\"count\" } +\n",
    "    scaleFillGradient(low = \"#FFF3E0\", high = \"#E65100\", name = \"Number of Titles\") +\n",
    "    ggsize(1000, 800) + voidTheme + worldLimits"
   ]
  },
  {
   "cell_type": "markdown",
   "metadata": {},
   "source": [
    "The map clearly shows where the content is mainly produced and gets to Netflix. Let's take a closer look at the top of such countries."
   ]
  },
  {
   "cell_type": "code",
   "execution_count": 103,
   "metadata": {},
   "outputs": [
    {
     "name": "stderr",
     "output_type": "stream",
     "text": [
      "Line_125.jupyter-kts (3:36 - 45) Type mismatch: inferred type is Unit but ColumnSet<TypeVariable(C)> was expected\n",
      "Line_125.jupyter-kts (3:38 - 43) Unresolved reference. None of the following candidates is applicable because of receiver type mismatch: \n",
      "public val ColumnsContainer<ColumnDescription>.count: DataColumn<Int> defined in org.jetbrains.kotlinx.dataframe.api\n",
      "public val ColumnsContainer<ValueCount>.count: DataColumn<Int> defined in org.jetbrains.kotlinx.dataframe.api\n",
      "public val DataRow<ColumnDescription>.count: Int defined in org.jetbrains.kotlinx.dataframe.api\n",
      "public val DataRow<ValueCount>.count: Int defined in org.jetbrains.kotlinx.dataframe.api"
     ]
    }
   ],
   "source": [
    "ggplot(df_country[0..9].sortByDesc { count }.toMap()) +\n",
    "    geomBar(stat = Stat.identity, fill = \"#00796B\") { x=\"country\"; y=\"count\" } +\n",
    "    ggtitle(\"Top 10 Countries\") +\n",
    "    ggsize(900, 450)"
   ]
  },
  {
   "cell_type": "markdown",
   "metadata": {},
   "source": [
    "## Duration"
   ]
  },
  {
   "cell_type": "markdown",
   "metadata": {},
   "source": [
    "How long does the content usually last to keep the viewer?"
   ]
  },
  {
   "cell_type": "code",
   "execution_count": 104,
   "metadata": {},
   "outputs": [
    {
     "name": "stderr",
     "output_type": "stream",
     "text": [
      "\n",
      "java.lang.NullPointerException\n",
      "org.jetbrains.kotlinx.jupyter.ReplEvalRuntimeException: \r\n",
      "\tat org.jetbrains.kotlinx.jupyter.repl.impl.InternalEvaluatorImpl.eval(InternalEvaluatorImpl.kt:106)\r\n",
      "\tat org.jetbrains.kotlinx.jupyter.repl.impl.CellExecutorImpl$execute$1$result$1.invoke(CellExecutorImpl.kt:64)\r\n",
      "\tat org.jetbrains.kotlinx.jupyter.repl.impl.CellExecutorImpl$execute$1$result$1.invoke(CellExecutorImpl.kt:63)\r\n",
      "\tat org.jetbrains.kotlinx.jupyter.ReplForJupyterImpl.withHost(repl.kt:598)\r\n",
      "\tat org.jetbrains.kotlinx.jupyter.repl.impl.CellExecutorImpl.execute(CellExecutorImpl.kt:63)\r\n",
      "\tat org.jetbrains.kotlinx.jupyter.repl.CellExecutor$DefaultImpls.execute$default(CellExecutor.kt:13)\r\n",
      "\tat org.jetbrains.kotlinx.jupyter.ReplForJupyterImpl$evalEx$1.invoke(repl.kt:421)\r\n",
      "\tat org.jetbrains.kotlinx.jupyter.ReplForJupyterImpl$evalEx$1.invoke(repl.kt:410)\r\n",
      "\tat org.jetbrains.kotlinx.jupyter.ReplForJupyterImpl.withEvalContext(repl.kt:374)\r\n",
      "\tat org.jetbrains.kotlinx.jupyter.ReplForJupyterImpl.evalEx(repl.kt:410)\r\n",
      "\tat org.jetbrains.kotlinx.jupyter.ReplForJupyterImpl.eval(repl.kt:458)\r\n",
      "\tat org.jetbrains.kotlinx.jupyter.ProtocolKt$shellMessagesHandler$res$1.invoke(protocol.kt:290)\r\n",
      "\tat org.jetbrains.kotlinx.jupyter.ProtocolKt$shellMessagesHandler$res$1.invoke(protocol.kt:289)\r\n",
      "\tat org.jetbrains.kotlinx.jupyter.JupyterConnection$runExecution$execThread$1.invoke(connection.kt:166)\r\n",
      "\tat org.jetbrains.kotlinx.jupyter.JupyterConnection$runExecution$execThread$1.invoke(connection.kt:164)\r\n",
      "\tat kotlin.concurrent.ThreadsKt$thread$thread$1.run(Thread.kt:30)\r\n",
      "Caused by: java.lang.NullPointerException\r\n",
      "\tat Line_126.<init>(Line_126.jupyter-kts:3)\r\n",
      "\tat java.base/jdk.internal.reflect.NativeConstructorAccessorImpl.newInstance0(Native Method)\r\n",
      "\tat java.base/jdk.internal.reflect.NativeConstructorAccessorImpl.newInstance(NativeConstructorAccessorImpl.java:62)\r\n",
      "\tat java.base/jdk.internal.reflect.DelegatingConstructorAccessorImpl.newInstance(DelegatingConstructorAccessorImpl.java:45)\r\n",
      "\tat java.base/java.lang.reflect.Constructor.newInstance(Constructor.java:490)\r\n",
      "\tat kotlin.script.experimental.jvm.BasicJvmScriptEvaluator.evalWithConfigAndOtherScriptsResults(BasicJvmScriptEvaluator.kt:98)\r\n",
      "\tat kotlin.script.experimental.jvm.BasicJvmScriptEvaluator.invoke$suspendImpl(BasicJvmScriptEvaluator.kt:43)\r\n",
      "\tat kotlin.script.experimental.jvm.BasicJvmScriptEvaluator.invoke(BasicJvmScriptEvaluator.kt)\r\n",
      "\tat kotlin.script.experimental.jvm.BasicJvmReplEvaluator.eval(BasicJvmReplEvaluator.kt:51)\r\n",
      "\tat org.jetbrains.kotlinx.jupyter.repl.impl.InternalEvaluatorImpl$eval$resultWithDiagnostics$1.invokeSuspend(InternalEvaluatorImpl.kt:99)\r\n",
      "\tat kotlin.coroutines.jvm.internal.BaseContinuationImpl.resumeWith(ContinuationImpl.kt:33)\r\n",
      "\tat kotlinx.coroutines.DispatchedTask.run(DispatchedTask.kt:106)\r\n",
      "\tat kotlinx.coroutines.EventLoopImplBase.processNextEvent(EventLoop.common.kt:274)\r\n",
      "\tat kotlinx.coroutines.BlockingCoroutine.joinBlocking(Builders.kt:85)\r\n",
      "\tat kotlinx.coroutines.BuildersKt__BuildersKt.runBlocking(Builders.kt:59)\r\n",
      "\tat kotlinx.coroutines.BuildersKt.runBlocking(Unknown Source)\r\n",
      "\tat kotlinx.coroutines.BuildersKt__BuildersKt.runBlocking$default(Builders.kt:38)\r\n",
      "\tat kotlinx.coroutines.BuildersKt.runBlocking$default(Unknown Source)\r\n",
      "\tat org.jetbrains.kotlinx.jupyter.repl.impl.InternalEvaluatorImpl.eval(InternalEvaluatorImpl.kt:99)\r\n",
      "\t... 15 more\r\n",
      "\n"
     ]
    }
   ],
   "source": [
    "val df_dur = df\n",
    "                .split { duration }.by(\" \").inward(\"duration_num\", \"duration_scale\") // splitting duration by time and scale inward\n",
    "                .convert { \"duration\"[\"duration_num\"] }.toInt() // converting by column path\n",
    "                .update { \"duration\"[\"duration_scale\"] }.with { if (it == \"Seasons\") \"Season\" else it }\n",
    "df_dur.head()"
   ]
  },
  {
   "cell_type": "code",
   "execution_count": 105,
   "metadata": {},
   "outputs": [
    {
     "name": "stderr",
     "output_type": "stream",
     "text": [
      "\n",
      "java.lang.NullPointerException\n",
      "org.jetbrains.kotlinx.jupyter.ReplEvalRuntimeException: \r\n",
      "\tat org.jetbrains.kotlinx.jupyter.repl.impl.InternalEvaluatorImpl.eval(InternalEvaluatorImpl.kt:106)\r\n",
      "\tat org.jetbrains.kotlinx.jupyter.repl.impl.CellExecutorImpl$execute$1$result$1.invoke(CellExecutorImpl.kt:64)\r\n",
      "\tat org.jetbrains.kotlinx.jupyter.repl.impl.CellExecutorImpl$execute$1$result$1.invoke(CellExecutorImpl.kt:63)\r\n",
      "\tat org.jetbrains.kotlinx.jupyter.ReplForJupyterImpl.withHost(repl.kt:598)\r\n",
      "\tat org.jetbrains.kotlinx.jupyter.repl.impl.CellExecutorImpl.execute(CellExecutorImpl.kt:63)\r\n",
      "\tat org.jetbrains.kotlinx.jupyter.repl.CellExecutor$DefaultImpls.execute$default(CellExecutor.kt:13)\r\n",
      "\tat org.jetbrains.kotlinx.jupyter.ReplForJupyterImpl$evalEx$1.invoke(repl.kt:421)\r\n",
      "\tat org.jetbrains.kotlinx.jupyter.ReplForJupyterImpl$evalEx$1.invoke(repl.kt:410)\r\n",
      "\tat org.jetbrains.kotlinx.jupyter.ReplForJupyterImpl.withEvalContext(repl.kt:374)\r\n",
      "\tat org.jetbrains.kotlinx.jupyter.ReplForJupyterImpl.evalEx(repl.kt:410)\r\n",
      "\tat org.jetbrains.kotlinx.jupyter.ReplForJupyterImpl.eval(repl.kt:458)\r\n",
      "\tat org.jetbrains.kotlinx.jupyter.ProtocolKt$shellMessagesHandler$res$1.invoke(protocol.kt:290)\r\n",
      "\tat org.jetbrains.kotlinx.jupyter.ProtocolKt$shellMessagesHandler$res$1.invoke(protocol.kt:289)\r\n",
      "\tat org.jetbrains.kotlinx.jupyter.JupyterConnection$runExecution$execThread$1.invoke(connection.kt:166)\r\n",
      "\tat org.jetbrains.kotlinx.jupyter.JupyterConnection$runExecution$execThread$1.invoke(connection.kt:164)\r\n",
      "\tat kotlin.concurrent.ThreadsKt$thread$thread$1.run(Thread.kt:30)\r\n",
      "Caused by: java.lang.NullPointerException\r\n",
      "\tat Line_127.<init>(Line_127.jupyter-kts:3)\r\n",
      "\tat java.base/jdk.internal.reflect.NativeConstructorAccessorImpl.newInstance0(Native Method)\r\n",
      "\tat java.base/jdk.internal.reflect.NativeConstructorAccessorImpl.newInstance(NativeConstructorAccessorImpl.java:62)\r\n",
      "\tat java.base/jdk.internal.reflect.DelegatingConstructorAccessorImpl.newInstance(DelegatingConstructorAccessorImpl.java:45)\r\n",
      "\tat java.base/java.lang.reflect.Constructor.newInstance(Constructor.java:490)\r\n",
      "\tat kotlin.script.experimental.jvm.BasicJvmScriptEvaluator.evalWithConfigAndOtherScriptsResults(BasicJvmScriptEvaluator.kt:98)\r\n",
      "\tat kotlin.script.experimental.jvm.BasicJvmScriptEvaluator.invoke$suspendImpl(BasicJvmScriptEvaluator.kt:43)\r\n",
      "\tat kotlin.script.experimental.jvm.BasicJvmScriptEvaluator.invoke(BasicJvmScriptEvaluator.kt)\r\n",
      "\tat kotlin.script.experimental.jvm.BasicJvmReplEvaluator.eval(BasicJvmReplEvaluator.kt:51)\r\n",
      "\tat org.jetbrains.kotlinx.jupyter.repl.impl.InternalEvaluatorImpl$eval$resultWithDiagnostics$1.invokeSuspend(InternalEvaluatorImpl.kt:99)\r\n",
      "\tat kotlin.coroutines.jvm.internal.BaseContinuationImpl.resumeWith(ContinuationImpl.kt:33)\r\n",
      "\tat kotlinx.coroutines.DispatchedTask.run(DispatchedTask.kt:106)\r\n",
      "\tat kotlinx.coroutines.EventLoopImplBase.processNextEvent(EventLoop.common.kt:274)\r\n",
      "\tat kotlinx.coroutines.BlockingCoroutine.joinBlocking(Builders.kt:85)\r\n",
      "\tat kotlinx.coroutines.BuildersKt__BuildersKt.runBlocking(Builders.kt:59)\r\n",
      "\tat kotlinx.coroutines.BuildersKt.runBlocking(Unknown Source)\r\n",
      "\tat kotlinx.coroutines.BuildersKt__BuildersKt.runBlocking$default(Builders.kt:38)\r\n",
      "\tat kotlinx.coroutines.BuildersKt.runBlocking$default(Unknown Source)\r\n",
      "\tat org.jetbrains.kotlinx.jupyter.repl.impl.InternalEvaluatorImpl.eval(InternalEvaluatorImpl.kt:99)\r\n",
      "\t... 15 more\r\n",
      "\n"
     ]
    }
   ],
   "source": [
    "val durations = df_dur.pivot { type }.values { duration }\n",
    "durations"
   ]
  },
  {
   "cell_type": "code",
   "execution_count": 106,
   "metadata": {},
   "outputs": [
    {
     "name": "stderr",
     "output_type": "stream",
     "text": [
      "Line_128.jupyter-kts (3:27 - 32) Unresolved reference: Movie\n",
      "Line_128.jupyter-kts (8:27 - 36) Unresolved reference: `TV Show`"
     ]
    }
   ],
   "source": [
    "val p1 = ggplot(durations.Movie.toMap()) { x=\"duration_num\" } + \n",
    "            geomHistogram(bins = 100, color=\"#e0f7fa\", fill=\"#00BCD4\") { y=\"..density..\" } +\n",
    "            geomDensity(alpha=1, size =1, color = \"#d41900\") + xlab(\"minutes\") +\n",
    "            ggtitle(\"Distribution of movies duration in minutes\")\n",
    "\n",
    "val p2 = ggplot(durations.`TV Show`.toMap()) { x = \"duration_num\" } + statCount(fill = \"#00BCD4\") + xlab(\"seasons\") + \n",
    "            ggtitle(\"Number of seasons of tv show\")\n",
    "\n",
    "GGBunch()\n",
    "    .addPlot(p1, 0, 0, 1000, 500)\n",
    "    .addPlot(p2, 0, 500, 1000, 500)"
   ]
  },
  {
   "cell_type": "markdown",
   "metadata": {},
   "source": [
    "And according to tradition, the top longest movies and TV shows."
   ]
  },
  {
   "cell_type": "markdown",
   "metadata": {},
   "source": [
    "* ***Top 5 movies with highest duration***"
   ]
  },
  {
   "cell_type": "code",
   "execution_count": 107,
   "metadata": {},
   "outputs": [
    {
     "name": "stderr",
     "output_type": "stream",
     "text": [
      "Line_129.jupyter-kts (4:17 - 42) Type mismatch: inferred type is Unit but ColumnSet<TypeVariable(C)> was expected\n",
      "Line_129.jupyter-kts (4:28 - 40) Unresolved reference: duration_num"
     ]
    }
   ],
   "source": [
    "df_dur.xs(\"Movie\") { type }\n",
    "    .sortByDesc { duration.duration_num }.head()\n",
    "    .select { title and country and date_added and release_year and duration.all() }"
   ]
  },
  {
   "cell_type": "markdown",
   "metadata": {},
   "source": [
    "* ***Top 5 TV shows with most seasons***"
   ]
  },
  {
   "cell_type": "code",
   "execution_count": 108,
   "metadata": {},
   "outputs": [
    {
     "name": "stderr",
     "output_type": "stream",
     "text": [
      "Line_130.jupyter-kts (4:17 - 42) Type mismatch: inferred type is Unit but ColumnSet<TypeVariable(C)> was expected\n",
      "Line_130.jupyter-kts (4:28 - 40) Unresolved reference: duration_num"
     ]
    }
   ],
   "source": [
    "df_dur.xs(\"TV Show\") { type }\n",
    "    .sortByDesc { duration.duration_num }.head()\n",
    "    .select { title and country and date_added and release_year and duration.all() }"
   ]
  },
  {
   "cell_type": "markdown",
   "metadata": {},
   "source": [
    "And in the top content producing countries, how long are movies and TV shows?"
   ]
  },
  {
   "cell_type": "code",
   "execution_count": 109,
   "metadata": {},
   "outputs": [
    {
     "name": "stderr",
     "output_type": "stream",
     "text": [
      "Line_131.jupyter-kts (8:33 - 58) Type mismatch: inferred type is Unit but ColumnSet<TypeVariable(C)?> was expected\n",
      "Line_131.jupyter-kts (8:44 - 56) Unresolved reference: duration_num"
     ]
    }
   ],
   "source": [
    "val list_top_countries = df_country.country.take(10).toSet()\n",
    "\n",
    "val df_cntr = df_dur\n",
    "    .filter { country in list_top_countries }\n",
    "    .pivot { type }.aggregate { \n",
    "        groupBy{ country }.mean { duration.duration_num }\n",
    "    }\n",
    "df_cntr"
   ]
  },
  {
   "cell_type": "code",
   "execution_count": 110,
   "metadata": {},
   "outputs": [
    {
     "name": "stderr",
     "output_type": "stream",
     "text": [
      "Line_132.jupyter-kts (3:17 - 24) Unresolved reference: df_cntr\n",
      "Line_132.jupyter-kts (16:17 - 24) Unresolved reference: df_cntr"
     ]
    }
   ],
   "source": [
    "val p1 = ggplot(df_cntr.Movie.toMap()) +\n",
    "        geomHistogram(\n",
    "            stat = Stat.identity, boundary = 1.0, color = 0xE0F7FA, showLegend = false\n",
    "        ) { \n",
    "            x = \"country\";\n",
    "            y = \"duration_num\";\n",
    "            fill = \"duration_num\";\n",
    "        } +\n",
    "        scaleFillGradient(low = \"#ECEFF1\", high = \"#263238\") +\n",
    "        ylab(\"Minute\") +\n",
    "        xlab(\"Name\") +\n",
    "        ggtitle(\"Top 30 cast on Movies\")\n",
    "        \n",
    "val p2 = ggplot(df_cntr.`TV Show`.toMap()) +\n",
    "        geomHistogram(\n",
    "            stat = Stat.identity, boundary = 1.0, color = 0xE0F7FA, showLegend = false\n",
    "        ) { \n",
    "            x = \"country\";\n",
    "            y = \"duration_num\";\n",
    "            fill = \"duration_num\"\n",
    "        } +\n",
    "        scaleFillGradient(low = \"#E0F7FA\", high = \"#006064\") +\n",
    "        ylab(\"Season\") +\n",
    "        xlab(\"Name\") +\n",
    "        ggtitle(\"Top 30 cast on TV Shows\")\n",
    "\n",
    "GGBunch()\n",
    "    .addPlot(p1, 0, 0, 900, 550)\n",
    "    .addPlot(p2, 0, 550, 900, 550)"
   ]
  },
  {
   "cell_type": "markdown",
   "metadata": {},
   "source": [
    "## Ratings"
   ]
  },
  {
   "cell_type": "markdown",
   "metadata": {},
   "source": [
    "Finally, let's take a look at the rating column.\n",
    "Here we will find out what is the most commonly assigned rating for films and shows."
   ]
  },
  {
   "cell_type": "code",
   "execution_count": 111,
   "metadata": {},
   "outputs": [
    {
     "name": "stderr",
     "output_type": "stream",
     "text": [
      "\n",
      "java.lang.NullPointerException\n",
      "org.jetbrains.kotlinx.jupyter.ReplEvalRuntimeException: \r\n",
      "\tat org.jetbrains.kotlinx.jupyter.repl.impl.InternalEvaluatorImpl.eval(InternalEvaluatorImpl.kt:106)\r\n",
      "\tat org.jetbrains.kotlinx.jupyter.repl.impl.CellExecutorImpl$execute$1$result$1.invoke(CellExecutorImpl.kt:64)\r\n",
      "\tat org.jetbrains.kotlinx.jupyter.repl.impl.CellExecutorImpl$execute$1$result$1.invoke(CellExecutorImpl.kt:63)\r\n",
      "\tat org.jetbrains.kotlinx.jupyter.ReplForJupyterImpl.withHost(repl.kt:598)\r\n",
      "\tat org.jetbrains.kotlinx.jupyter.repl.impl.CellExecutorImpl.execute(CellExecutorImpl.kt:63)\r\n",
      "\tat org.jetbrains.kotlinx.jupyter.repl.CellExecutor$DefaultImpls.execute$default(CellExecutor.kt:13)\r\n",
      "\tat org.jetbrains.kotlinx.jupyter.ReplForJupyterImpl$evalEx$1.invoke(repl.kt:421)\r\n",
      "\tat org.jetbrains.kotlinx.jupyter.ReplForJupyterImpl$evalEx$1.invoke(repl.kt:410)\r\n",
      "\tat org.jetbrains.kotlinx.jupyter.ReplForJupyterImpl.withEvalContext(repl.kt:374)\r\n",
      "\tat org.jetbrains.kotlinx.jupyter.ReplForJupyterImpl.evalEx(repl.kt:410)\r\n",
      "\tat org.jetbrains.kotlinx.jupyter.ReplForJupyterImpl.eval(repl.kt:458)\r\n",
      "\tat org.jetbrains.kotlinx.jupyter.ProtocolKt$shellMessagesHandler$res$1.invoke(protocol.kt:290)\r\n",
      "\tat org.jetbrains.kotlinx.jupyter.ProtocolKt$shellMessagesHandler$res$1.invoke(protocol.kt:289)\r\n",
      "\tat org.jetbrains.kotlinx.jupyter.JupyterConnection$runExecution$execThread$1.invoke(connection.kt:166)\r\n",
      "\tat org.jetbrains.kotlinx.jupyter.JupyterConnection$runExecution$execThread$1.invoke(connection.kt:164)\r\n",
      "\tat kotlin.concurrent.ThreadsKt$thread$thread$1.run(Thread.kt:30)\r\n",
      "Caused by: java.lang.NullPointerException\r\n",
      "\tat Line_133.<init>(Line_133.jupyter-kts:3)\r\n",
      "\tat java.base/jdk.internal.reflect.NativeConstructorAccessorImpl.newInstance0(Native Method)\r\n",
      "\tat java.base/jdk.internal.reflect.NativeConstructorAccessorImpl.newInstance(NativeConstructorAccessorImpl.java:62)\r\n",
      "\tat java.base/jdk.internal.reflect.DelegatingConstructorAccessorImpl.newInstance(DelegatingConstructorAccessorImpl.java:45)\r\n",
      "\tat java.base/java.lang.reflect.Constructor.newInstance(Constructor.java:490)\r\n",
      "\tat kotlin.script.experimental.jvm.BasicJvmScriptEvaluator.evalWithConfigAndOtherScriptsResults(BasicJvmScriptEvaluator.kt:98)\r\n",
      "\tat kotlin.script.experimental.jvm.BasicJvmScriptEvaluator.invoke$suspendImpl(BasicJvmScriptEvaluator.kt:43)\r\n",
      "\tat kotlin.script.experimental.jvm.BasicJvmScriptEvaluator.invoke(BasicJvmScriptEvaluator.kt)\r\n",
      "\tat kotlin.script.experimental.jvm.BasicJvmReplEvaluator.eval(BasicJvmReplEvaluator.kt:51)\r\n",
      "\tat org.jetbrains.kotlinx.jupyter.repl.impl.InternalEvaluatorImpl$eval$resultWithDiagnostics$1.invokeSuspend(InternalEvaluatorImpl.kt:99)\r\n",
      "\tat kotlin.coroutines.jvm.internal.BaseContinuationImpl.resumeWith(ContinuationImpl.kt:33)\r\n",
      "\tat kotlinx.coroutines.DispatchedTask.run(DispatchedTask.kt:106)\r\n",
      "\tat kotlinx.coroutines.EventLoopImplBase.processNextEvent(EventLoop.common.kt:274)\r\n",
      "\tat kotlinx.coroutines.BlockingCoroutine.joinBlocking(Builders.kt:85)\r\n",
      "\tat kotlinx.coroutines.BuildersKt__BuildersKt.runBlocking(Builders.kt:59)\r\n",
      "\tat kotlinx.coroutines.BuildersKt.runBlocking(Unknown Source)\r\n",
      "\tat kotlinx.coroutines.BuildersKt__BuildersKt.runBlocking$default(Builders.kt:38)\r\n",
      "\tat kotlinx.coroutines.BuildersKt.runBlocking$default(Unknown Source)\r\n",
      "\tat org.jetbrains.kotlinx.jupyter.repl.impl.InternalEvaluatorImpl.eval(InternalEvaluatorImpl.kt:99)\r\n",
      "\t... 15 more\r\n",
      "\n"
     ]
    }
   ],
   "source": [
    "ggplot(df.toMap()) +\n",
    "        geomHistogram(boundary = 1.0, color = 0xE0F7FA, showLegend = false) { x = \"rating\"; fill=\"rating\" } +\n",
    "        scaleFillHue() +\n",
    "        xlab(\"Rating\") +\n",
    "        ggtitle(\"Rating of Titles\") +\n",
    "        ggsize(950, 500)"
   ]
  },
  {
   "cell_type": "code",
   "execution_count": 112,
   "metadata": {},
   "outputs": [
    {
     "name": "stderr",
     "output_type": "stream",
     "text": [
      "\n",
      "java.lang.NullPointerException\n",
      "org.jetbrains.kotlinx.jupyter.ReplEvalRuntimeException: \r\n",
      "\tat org.jetbrains.kotlinx.jupyter.repl.impl.InternalEvaluatorImpl.eval(InternalEvaluatorImpl.kt:106)\r\n",
      "\tat org.jetbrains.kotlinx.jupyter.repl.impl.CellExecutorImpl$execute$1$result$1.invoke(CellExecutorImpl.kt:64)\r\n",
      "\tat org.jetbrains.kotlinx.jupyter.repl.impl.CellExecutorImpl$execute$1$result$1.invoke(CellExecutorImpl.kt:63)\r\n",
      "\tat org.jetbrains.kotlinx.jupyter.ReplForJupyterImpl.withHost(repl.kt:598)\r\n",
      "\tat org.jetbrains.kotlinx.jupyter.repl.impl.CellExecutorImpl.execute(CellExecutorImpl.kt:63)\r\n",
      "\tat org.jetbrains.kotlinx.jupyter.repl.CellExecutor$DefaultImpls.execute$default(CellExecutor.kt:13)\r\n",
      "\tat org.jetbrains.kotlinx.jupyter.ReplForJupyterImpl$evalEx$1.invoke(repl.kt:421)\r\n",
      "\tat org.jetbrains.kotlinx.jupyter.ReplForJupyterImpl$evalEx$1.invoke(repl.kt:410)\r\n",
      "\tat org.jetbrains.kotlinx.jupyter.ReplForJupyterImpl.withEvalContext(repl.kt:374)\r\n",
      "\tat org.jetbrains.kotlinx.jupyter.ReplForJupyterImpl.evalEx(repl.kt:410)\r\n",
      "\tat org.jetbrains.kotlinx.jupyter.ReplForJupyterImpl.eval(repl.kt:458)\r\n",
      "\tat org.jetbrains.kotlinx.jupyter.ProtocolKt$shellMessagesHandler$res$1.invoke(protocol.kt:290)\r\n",
      "\tat org.jetbrains.kotlinx.jupyter.ProtocolKt$shellMessagesHandler$res$1.invoke(protocol.kt:289)\r\n",
      "\tat org.jetbrains.kotlinx.jupyter.JupyterConnection$runExecution$execThread$1.invoke(connection.kt:166)\r\n",
      "\tat org.jetbrains.kotlinx.jupyter.JupyterConnection$runExecution$execThread$1.invoke(connection.kt:164)\r\n",
      "\tat kotlin.concurrent.ThreadsKt$thread$thread$1.run(Thread.kt:30)\r\n",
      "Caused by: java.lang.NullPointerException\r\n",
      "\tat Line_134.<init>(Line_134.jupyter-kts:3)\r\n",
      "\tat java.base/jdk.internal.reflect.NativeConstructorAccessorImpl.newInstance0(Native Method)\r\n",
      "\tat java.base/jdk.internal.reflect.NativeConstructorAccessorImpl.newInstance(NativeConstructorAccessorImpl.java:62)\r\n",
      "\tat java.base/jdk.internal.reflect.DelegatingConstructorAccessorImpl.newInstance(DelegatingConstructorAccessorImpl.java:45)\r\n",
      "\tat java.base/java.lang.reflect.Constructor.newInstance(Constructor.java:490)\r\n",
      "\tat kotlin.script.experimental.jvm.BasicJvmScriptEvaluator.evalWithConfigAndOtherScriptsResults(BasicJvmScriptEvaluator.kt:98)\r\n",
      "\tat kotlin.script.experimental.jvm.BasicJvmScriptEvaluator.invoke$suspendImpl(BasicJvmScriptEvaluator.kt:43)\r\n",
      "\tat kotlin.script.experimental.jvm.BasicJvmScriptEvaluator.invoke(BasicJvmScriptEvaluator.kt)\r\n",
      "\tat kotlin.script.experimental.jvm.BasicJvmReplEvaluator.eval(BasicJvmReplEvaluator.kt:51)\r\n",
      "\tat org.jetbrains.kotlinx.jupyter.repl.impl.InternalEvaluatorImpl$eval$resultWithDiagnostics$1.invokeSuspend(InternalEvaluatorImpl.kt:99)\r\n",
      "\tat kotlin.coroutines.jvm.internal.BaseContinuationImpl.resumeWith(ContinuationImpl.kt:33)\r\n",
      "\tat kotlinx.coroutines.DispatchedTask.run(DispatchedTask.kt:106)\r\n",
      "\tat kotlinx.coroutines.EventLoopImplBase.processNextEvent(EventLoop.common.kt:274)\r\n",
      "\tat kotlinx.coroutines.BlockingCoroutine.joinBlocking(Builders.kt:85)\r\n",
      "\tat kotlinx.coroutines.BuildersKt__BuildersKt.runBlocking(Builders.kt:59)\r\n",
      "\tat kotlinx.coroutines.BuildersKt.runBlocking(Unknown Source)\r\n",
      "\tat kotlinx.coroutines.BuildersKt__BuildersKt.runBlocking$default(Builders.kt:38)\r\n",
      "\tat kotlinx.coroutines.BuildersKt.runBlocking$default(Unknown Source)\r\n",
      "\tat org.jetbrains.kotlinx.jupyter.repl.impl.InternalEvaluatorImpl.eval(InternalEvaluatorImpl.kt:99)\r\n",
      "\t... 15 more\r\n",
      "\n"
     ]
    }
   ],
   "source": [
    "ggplot(df.toMap()) + \n",
    "    geomBar(position=Pos.dodge) {x=\"rating\"; fill=\"type\"} + \n",
    "    scaleFillManual(listOf(\"#607D8B\", \"#00BCD4\")) +\n",
    "    xlab(\"Rating\") +\n",
    "    ggtitle(\"Rating of Titles\") +\n",
    "    ggsize(950, 500)"
   ]
  }
 ],
 "metadata": {
  "kernelspec": {
   "display_name": "Kotlin",
   "language": "kotlin",
   "name": "kotlin"
  },
  "language_info": {
   "codemirror_mode": "text/x-kotlin",
   "file_extension": ".kt",
   "mimetype": "text/x-kotlin",
   "name": "kotlin",
   "nbconvert_exporter": "",
   "pygments_lexer": "kotlin",
   "version": "1.6.20-dev-5432"
  }
 },
 "nbformat": 4,
 "nbformat_minor": 1
}